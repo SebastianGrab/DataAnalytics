{
 "cells": [
  {
   "cell_type": "markdown",
   "metadata": {},
   "source": [
    "# StartUp Notebook\n",
    "\n",
    "## Installation aller Bibliotheken\n",
    "\n",
    "Die folgende Codezelle installiert alle benötigten Bibliotheken für das Ausführen der Notebooks."
   ]
  },
  {
   "cell_type": "code",
   "execution_count": 14,
   "metadata": {},
   "outputs": [
    {
     "name": "stdout",
     "output_type": "stream",
     "text": [
      "Requirement already satisfied: asttokens==2.4.1 in c:\\users\\sebastiangrab\\appdata\\roaming\\python\\python312\\site-packages (from -r requirements.txt (line 1)) (2.4.1)Note: you may need to restart the kernel to use updated packages.\n",
      "\n",
      "Requirement already satisfied: bleach==6.1.0 in c:\\python312\\lib\\site-packages (from -r requirements.txt (line 2)) (6.1.0)\n",
      "Requirement already satisfied: certifi==2023.11.17 in c:\\python312\\lib\\site-packages (from -r requirements.txt (line 3)) (2023.11.17)\n",
      "Requirement already satisfied: charset-normalizer==3.3.2 in c:\\python312\\lib\\site-packages (from -r requirements.txt (line 4)) (3.3.2)\n",
      "Requirement already satisfied: colorama==0.4.6 in c:\\users\\sebastiangrab\\appdata\\roaming\\python\\python312\\site-packages (from -r requirements.txt (line 5)) (0.4.6)\n",
      "Requirement already satisfied: comm==0.2.0 in c:\\users\\sebastiangrab\\appdata\\roaming\\python\\python312\\site-packages (from -r requirements.txt (line 6)) (0.2.0)\n",
      "Requirement already satisfied: contourpy==1.2.0 in c:\\python312\\lib\\site-packages (from -r requirements.txt (line 7)) (1.2.0)\n",
      "Requirement already satisfied: cycler==0.12.1 in c:\\python312\\lib\\site-packages (from -r requirements.txt (line 8)) (0.12.1)\n",
      "Requirement already satisfied: debugpy==1.8.0 in c:\\users\\sebastiangrab\\appdata\\roaming\\python\\python312\\site-packages (from -r requirements.txt (line 9)) (1.8.0)\n",
      "Requirement already satisfied: decorator==5.1.1 in c:\\users\\sebastiangrab\\appdata\\roaming\\python\\python312\\site-packages (from -r requirements.txt (line 10)) (5.1.1)\n",
      "Requirement already satisfied: docopt==0.6.2 in c:\\python312\\lib\\site-packages (from -r requirements.txt (line 11)) (0.6.2)\n",
      "Requirement already satisfied: executing==2.0.1 in c:\\users\\sebastiangrab\\appdata\\roaming\\python\\python312\\site-packages (from -r requirements.txt (line 12)) (2.0.1)\n",
      "Requirement already satisfied: fonttools==4.47.0 in c:\\python312\\lib\\site-packages (from -r requirements.txt (line 13)) (4.47.0)\n",
      "Requirement already satisfied: idna==3.6 in c:\\python312\\lib\\site-packages (from -r requirements.txt (line 14)) (3.6)\n",
      "Requirement already satisfied: ipykernel==6.28.0 in c:\\users\\sebastiangrab\\appdata\\roaming\\python\\python312\\site-packages (from -r requirements.txt (line 15)) (6.28.0)\n",
      "Requirement already satisfied: ipython==8.19.0 in c:\\users\\sebastiangrab\\appdata\\roaming\\python\\python312\\site-packages (from -r requirements.txt (line 16)) (8.19.0)\n",
      "Requirement already satisfied: jedi==0.19.1 in c:\\users\\sebastiangrab\\appdata\\roaming\\python\\python312\\site-packages (from -r requirements.txt (line 17)) (0.19.1)\n",
      "Requirement already satisfied: joblib==1.3.2 in c:\\python312\\lib\\site-packages (from -r requirements.txt (line 18)) (1.3.2)\n",
      "Requirement already satisfied: jupyter_client==8.6.0 in c:\\users\\sebastiangrab\\appdata\\roaming\\python\\python312\\site-packages (from -r requirements.txt (line 19)) (8.6.0)\n",
      "Requirement already satisfied: jupyter_core==5.5.1 in c:\\users\\sebastiangrab\\appdata\\roaming\\python\\python312\\site-packages (from -r requirements.txt (line 20)) (5.5.1)\n",
      "Requirement already satisfied: kaggle==1.5.16 in c:\\python312\\lib\\site-packages (from -r requirements.txt (line 21)) (1.5.16)\n",
      "Requirement already satisfied: kiwisolver==1.4.5 in c:\\python312\\lib\\site-packages (from -r requirements.txt (line 22)) (1.4.5)\n",
      "Requirement already satisfied: matplotlib==3.8.2 in c:\\python312\\lib\\site-packages (from -r requirements.txt (line 23)) (3.8.2)\n",
      "Requirement already satisfied: matplotlib-inline==0.1.6 in c:\\users\\sebastiangrab\\appdata\\roaming\\python\\python312\\site-packages (from -r requirements.txt (line 24)) (0.1.6)\n",
      "Requirement already satisfied: nest-asyncio==1.5.8 in c:\\users\\sebastiangrab\\appdata\\roaming\\python\\python312\\site-packages (from -r requirements.txt (line 25)) (1.5.8)\n",
      "Requirement already satisfied: numpy==1.26.2 in c:\\python312\\lib\\site-packages (from -r requirements.txt (line 26)) (1.26.2)\n",
      "Requirement already satisfied: packaging==23.2 in c:\\users\\sebastiangrab\\appdata\\roaming\\python\\python312\\site-packages (from -r requirements.txt (line 27)) (23.2)\n",
      "Requirement already satisfied: pandas==2.1.4 in c:\\python312\\lib\\site-packages (from -r requirements.txt (line 28)) (2.1.4)\n",
      "Requirement already satisfied: parso==0.8.3 in c:\\users\\sebastiangrab\\appdata\\roaming\\python\\python312\\site-packages (from -r requirements.txt (line 29)) (0.8.3)\n",
      "Requirement already satisfied: patsy==0.5.5 in c:\\python312\\lib\\site-packages (from -r requirements.txt (line 30)) (0.5.5)\n",
      "Requirement already satisfied: Pillow==10.1.0 in c:\\python312\\lib\\site-packages (from -r requirements.txt (line 31)) (10.1.0)\n",
      "Requirement already satisfied: pipreqs==0.4.13 in c:\\python312\\lib\\site-packages (from -r requirements.txt (line 32)) (0.4.13)\n",
      "Requirement already satisfied: platformdirs==4.1.0 in c:\\users\\sebastiangrab\\appdata\\roaming\\python\\python312\\site-packages (from -r requirements.txt (line 33)) (4.1.0)\n",
      "Requirement already satisfied: prompt-toolkit==3.0.43 in c:\\users\\sebastiangrab\\appdata\\roaming\\python\\python312\\site-packages (from -r requirements.txt (line 34)) (3.0.43)\n",
      "Requirement already satisfied: psutil==5.9.7 in c:\\users\\sebastiangrab\\appdata\\roaming\\python\\python312\\site-packages (from -r requirements.txt (line 35)) (5.9.7)\n",
      "Requirement already satisfied: pure-eval==0.2.2 in c:\\users\\sebastiangrab\\appdata\\roaming\\python\\python312\\site-packages (from -r requirements.txt (line 36)) (0.2.2)\n",
      "Requirement already satisfied: Pygments==2.17.2 in c:\\users\\sebastiangrab\\appdata\\roaming\\python\\python312\\site-packages (from -r requirements.txt (line 37)) (2.17.2)\n",
      "Requirement already satisfied: pyparsing==3.1.1 in c:\\python312\\lib\\site-packages (from -r requirements.txt (line 38)) (3.1.1)\n",
      "Requirement already satisfied: python-dateutil==2.8.2 in c:\\python312\\lib\\site-packages (from -r requirements.txt (line 39)) (2.8.2)\n",
      "Requirement already satisfied: python-slugify==8.0.1 in c:\\python312\\lib\\site-packages (from -r requirements.txt (line 40)) (8.0.1)\n",
      "Requirement already satisfied: pytz==2023.3.post1 in c:\\python312\\lib\\site-packages (from -r requirements.txt (line 41)) (2023.3.post1)\n",
      "Requirement already satisfied: pywin32==306 in c:\\users\\sebastiangrab\\appdata\\roaming\\python\\python312\\site-packages (from -r requirements.txt (line 42)) (306)\n",
      "Requirement already satisfied: pyzmq==25.1.2 in c:\\users\\sebastiangrab\\appdata\\roaming\\python\\python312\\site-packages (from -r requirements.txt (line 43)) (25.1.2)\n",
      "Requirement already satisfied: requests==2.31.0 in c:\\python312\\lib\\site-packages (from -r requirements.txt (line 44)) (2.31.0)\n",
      "Requirement already satisfied: scikit-learn==1.3.2 in c:\\python312\\lib\\site-packages (from -r requirements.txt (line 45)) (1.3.2)\n",
      "Requirement already satisfied: scipy==1.11.4 in c:\\python312\\lib\\site-packages (from -r requirements.txt (line 46)) (1.11.4)\n",
      "Requirement already satisfied: seaborn==0.13.0 in c:\\python312\\lib\\site-packages (from -r requirements.txt (line 47)) (0.13.0)\n",
      "Requirement already satisfied: six==1.16.0 in c:\\python312\\lib\\site-packages (from -r requirements.txt (line 48)) (1.16.0)\n",
      "Requirement already satisfied: stack-data==0.6.3 in c:\\users\\sebastiangrab\\appdata\\roaming\\python\\python312\\site-packages (from -r requirements.txt (line 49)) (0.6.3)\n",
      "Requirement already satisfied: statsmodels==0.14.1 in c:\\python312\\lib\\site-packages (from -r requirements.txt (line 50)) (0.14.1)\n",
      "Requirement already satisfied: text-unidecode==1.3 in c:\\python312\\lib\\site-packages (from -r requirements.txt (line 51)) (1.3)\n",
      "Requirement already satisfied: threadpoolctl==3.2.0 in c:\\python312\\lib\\site-packages (from -r requirements.txt (line 52)) (3.2.0)\n",
      "Requirement already satisfied: tornado==6.4 in c:\\users\\sebastiangrab\\appdata\\roaming\\python\\python312\\site-packages (from -r requirements.txt (line 53)) (6.4)\n",
      "Requirement already satisfied: tqdm==4.66.1 in c:\\python312\\lib\\site-packages (from -r requirements.txt (line 54)) (4.66.1)\n",
      "Requirement already satisfied: traitlets==5.14.0 in c:\\users\\sebastiangrab\\appdata\\roaming\\python\\python312\\site-packages (from -r requirements.txt (line 55)) (5.14.0)\n",
      "Requirement already satisfied: tzdata==2023.4 in c:\\python312\\lib\\site-packages (from -r requirements.txt (line 56)) (2023.4)\n",
      "Requirement already satisfied: urllib3==2.1.0 in c:\\python312\\lib\\site-packages (from -r requirements.txt (line 57)) (2.1.0)\n",
      "Requirement already satisfied: wcwidth==0.2.12 in c:\\users\\sebastiangrab\\appdata\\roaming\\python\\python312\\site-packages (from -r requirements.txt (line 58)) (0.2.12)\n",
      "Requirement already satisfied: webencodings==0.5.1 in c:\\python312\\lib\\site-packages (from -r requirements.txt (line 59)) (0.5.1)\n",
      "Requirement already satisfied: yarg==0.1.9 in c:\\python312\\lib\\site-packages (from -r requirements.txt (line 60)) (0.1.9)\n"
     ]
    }
   ],
   "source": [
    "# Installieren der Libraries:\n",
    "\n",
    "%pip install -r requirements.txt"
   ]
  },
  {
   "cell_type": "markdown",
   "metadata": {},
   "source": [
    "## Erstellen der Datasets\n",
    "\n",
    "Um das finale Dataset erstellen zu können, muss das ursprüngliche Dataset [heruntergeladen](https://www.kaggle.com/datasets/sooyoungher/smoking-drinking-dataset) und im Ordner './Projekt/Daten' mit dem Namen 'smoking_driking_dataset_Ver01.csv' abgelegt werden.\n",
    "\n",
    "Dann können die folgenden Codezellen ausgeführt werden."
   ]
  },
  {
   "cell_type": "code",
   "execution_count": 15,
   "metadata": {},
   "outputs": [],
   "source": [
    "# Import der benötigten Bibliotheken\n",
    "\n",
    "import importlib\n",
    "import init_notebook\n",
    "import pandas as pd\n",
    "import numpy as np"
   ]
  },
  {
   "cell_type": "markdown",
   "metadata": {},
   "source": [
    "Folgend wird das ursprüngliche Dataset geladen.\n",
    "\n",
    "Dieses wird für die Anforderungen 1 bis 4 verwendet."
   ]
  },
  {
   "cell_type": "code",
   "execution_count": 16,
   "metadata": {},
   "outputs": [],
   "source": [
    "importlib.reload(init_notebook)\n",
    "\n",
    "dataset = init_notebook.get_initial_dataset()"
   ]
  },
  {
   "cell_type": "markdown",
   "metadata": {},
   "source": [
    "Innerhalb der Anforderungen 1 bis 4 ergaben sich Bereinigungsbedarfe im Dataset, die folgend durchgeführt werden.\n",
    "\n",
    "Genauere Erläuterungen hierzu lassen sich in den Anforderungen sowie in der Dokumentation finden.\n",
    "\n",
    "Das neue Dataset wird persistiert und für die Anforderungen 5 bis 9 verwendet."
   ]
  },
  {
   "cell_type": "code",
   "execution_count": 17,
   "metadata": {},
   "outputs": [],
   "source": [
    "# Umbenennen der Spalten:\n",
    "dataset = dataset.rename(columns={'sex': 'Geschlecht', 'age': 'Alter', 'height': 'Größe', 'weight': 'Gewicht', 'waistline': 'Hüftumfang', 'sight_left': 'Sehkraft_links', 'sight_right': 'Sehkraft_rechts', 'hear_left': 'Hörkraft_links', 'hear_right': 'Hörkraft_rechts', 'SBP': 'Systolischer Blutdruck', 'DBP': 'Diastolischer Blutdruck', 'BLDS': 'Nüchterner Blutzucker', 'tot_chole': 'Totale Cholesterin', 'HDL_chole': 'HDL_Cholesterin', 'LDL_chole': 'LDL_Cholesterin', 'triglyceride': 'Triglycerid', 'hemoglobin': 'Hämoglobin', 'urine_protein': 'Urin_Proteine', 'serum_creatinine': 'Serum_Kreatinin', 'SGOT_AST': 'SGOT_AST', 'SGOT_ALT': 'SGOT_ALT', 'gamma_GTP': 'gamma_GTP', 'SMK_stat_type_cd': 'Raucher_Status', 'DRK_YN': 'Trinker'})\n",
    "\n",
    "# Hinzufügen des BMIs:\n",
    "dataset[\"Body-Mass-Index\"] = round(dataset[\"Gewicht\"].astype(np.float64) / ((dataset[\"Größe\"].astype(np.float64) / 100) * (dataset[\"Größe\"].astype(np.float64) / 100)), 2)\n",
    "\n",
    "# Feature Engineering:\n",
    "dataset['Trinker'] = dataset['Trinker'] == 'Y'\n",
    "dataset['Trinker'] = dataset['Trinker'].astype(int)\n",
    "\n",
    "dataset['Geschlecht'] = dataset['Geschlecht'] == 'Male'\n",
    "dataset['Geschlecht'] = dataset['Geschlecht'].astype(int)\n",
    "\n",
    "# Eliminierung der fehlerhaften/falschen Daten und nicht benötigten Features:\n",
    "dataset = dataset[dataset['Hüftumfang'] != 999]\n",
    "dataset = dataset[dataset['HDL_Cholesterin'] < 1000]\n",
    "dataset = dataset[dataset['LDL_Cholesterin'] < 2500]\n",
    "dataset = dataset[dataset['Triglycerid'] < 3000]\n",
    "dataset = dataset[dataset['gamma_GTP'] < 999]\n",
    "dataset = dataset[dataset['SGOT_AST'] < 1000]\n",
    "dataset = dataset[dataset['SGOT_ALT'] < 1000]\n",
    "\n",
    "dataset = dataset.drop(columns=['Sehkraft_links', 'Sehkraft_rechts', 'Hörkraft_links', 'Hörkraft_rechts', 'Urin_Proteine', 'Serum_Kreatinin'])"
   ]
  },
  {
   "cell_type": "code",
   "execution_count": null,
   "metadata": {},
   "outputs": [],
   "source": [
    "path = init_notebook.get_file_path()\n",
    "\n",
    "dataset.to_csv(path + \"\\smoking_driking_dataset_Ver02.csv\")"
   ]
  }
 ],
 "metadata": {
  "kernelspec": {
   "display_name": "Python 3",
   "language": "python",
   "name": "python3"
  },
  "language_info": {
   "codemirror_mode": {
    "name": "ipython",
    "version": 3
   },
   "file_extension": ".py",
   "mimetype": "text/x-python",
   "name": "python",
   "nbconvert_exporter": "python",
   "pygments_lexer": "ipython3",
   "version": "3.12.1"
  }
 },
 "nbformat": 4,
 "nbformat_minor": 2
}
