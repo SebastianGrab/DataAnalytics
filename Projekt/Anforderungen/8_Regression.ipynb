{
 "cells": [
  {
   "cell_type": "markdown",
   "metadata": {},
   "source": [
    "# Modeling 4: Regression\n",
    "\n",
    "## Anforderungen an Projektumsetzung: Regression\n",
    "\n",
    "\n",
    "Falls die Anforderungen auf den eigenen Projektdatensatz nicht anwendbar sind, gibt es folgende Möglichkeiten:\n",
    "\n",
    "- Für diese Übung ein realwertiges Feature des Datensatzes zur Zielvariablen erklären\n",
    "und/oder\n",
    "- als Kategorien oder String-Werte hinterlegte Features entweder ausschließen oder im Notfall als Zahlen codieren\n",
    "\n",
    "- Datensatz um passende Daten erweitern entweder manuell, per Anspielen aus weiterer Datenquelle oder zur Not per zufälliger Datengenerierung/-simulation\n",
    "\n",
    "- Datensatz außerhalb des Projekts wählen und Anforderungen daran umsetzen\n",
    "\n",
    "Anforderungen:\n",
    "- Entscheiden Sie, ob Sie mit der linearen Regression modellieren, prädizieren, oder beides erreichen wollen.\n",
    "\n",
    "- Führen Sie die entsprechende(n) Analyse(n) methodisch sauber durch und berichten Sie entsprechend der    eingeführten Kriterien und Evaluationsmaße das Ergebnis.\n",
    "  \n",
    "- Wenn Sie sowohl modellieren als auch prädizieren wollen, führen Sie die Modellierung nur auf den Trainingsdaten durch, um zu vermeiden, dass Sie ungewollt aus Ihren Testdaten lernen. Trainieren Sie das Prädiktionsmodell im zweiten Schritt aufgrund der Erkenntnisse der Modellierung."
   ]
  },
  {
   "cell_type": "markdown",
   "metadata": {},
   "source": [
    "#### Laden der Bibliotheken & des Datensatzes"
   ]
  },
  {
   "cell_type": "code",
   "execution_count": 101,
   "metadata": {},
   "outputs": [],
   "source": [
    "# Import der benötigten Bibliotheken\n",
    "\n",
    "import importlib\n",
    "import init_notebook\n",
    "\n",
    "import pandas as pd\n",
    "import numpy as np\n",
    "import os\n",
    "import matplotlib.pyplot as plt\n",
    "import seaborn as sns\n",
    "\n",
    "from sklearn.decomposition import PCA\n",
    "from sklearn.preprocessing import StandardScaler\n",
    "from sklearn.pipeline import Pipeline\n",
    "from sklearn.linear_model import LogisticRegression\n",
    "from sklearn.model_selection import train_test_split\n",
    "\n",
    "import statsmodels.api as sm\n",
    "from statsmodels.formula.api import ols\n",
    "from statsmodels.stats.anova import anova_lm\n",
    "\n",
    "from sklearn.datasets import fetch_california_housing\n",
    "from sklearn.model_selection import train_test_split\n",
    "from sklearn.linear_model import LinearRegression\n",
    "from sklearn.metrics import mean_squared_error as RMSE\n",
    "from sklearn.preprocessing import PolynomialFeatures "
   ]
  },
  {
   "cell_type": "code",
   "execution_count": 102,
   "metadata": {},
   "outputs": [],
   "source": [
    "importlib.reload(init_notebook)\n",
    "\n",
    "dataset = init_notebook.get_final_dataset()"
   ]
  },
  {
   "cell_type": "markdown",
   "metadata": {},
   "source": [
    "#### Entscheiden Sie, ob Sie mit der linearen Regression modellieren, prädizieren, oder beides erreichen wollen."
   ]
  },
  {
   "cell_type": "markdown",
   "metadata": {},
   "source": [
    "Für dieses Notebook wird der Ansatz der Modellierung gewählt, da in vorherigen Notebook eine Softmax Regression durchgeführt wurde, die in Teilen bereits prädiziert und keine befriedigenden Ergebnisse geliefert hat. \n",
    "\n",
    "Durch Modellierung wird versucht neue und tiefgreifendere Erkentnisse zu gewinnen. \n",
    "Ziel wäre es beispielsweise Aussagen treffen zu können wie: \"Personen mit dem Merkmal X neigen dazu an Hypertonie erkrankt zu sein\". \n",
    "\n",
    "Als Zielvariable wird das Feature \"Gewicht\" gewählt, da es sich dabei um einen numerischen Wert handelt und das Feature auch ohne spezifisches Fachwissen verstanden werden kann. "
   ]
  },
  {
   "cell_type": "markdown",
   "metadata": {},
   "source": [
    "#### Führen Sie die entsprechende(n) Analyse(n) methodisch sauber durch und berichten Sie entsprechend der eingeführten Kriterien und Evaluationsmaße das Ergebnis."
   ]
  },
  {
   "cell_type": "code",
   "execution_count": 103,
   "metadata": {},
   "outputs": [],
   "source": [
    "# Trennung in des Dataset in Frauen und Männer\n",
    "data_m = dataset[dataset['Geschlecht'] == 1]\n",
    "\n",
    "data_f = dataset[dataset['Geschlecht'] == 0]"
   ]
  },
  {
   "cell_type": "code",
   "execution_count": 104,
   "metadata": {},
   "outputs": [
    {
     "name": "stdout",
     "output_type": "stream",
     "text": [
      "                            OLS Regression Results                            \n",
      "==============================================================================\n",
      "Dep. Variable:                Gewicht   R-squared:                       0.590\n",
      "Model:                            OLS   Adj. R-squared:                  0.590\n",
      "Method:                 Least Squares   F-statistic:                 7.578e+05\n",
      "Date:                Mon, 01 Jan 2024   Prob (F-statistic):               0.00\n",
      "Time:                        01:30:38   Log-Likelihood:            -1.7833e+06\n",
      "No. Observations:              526158   AIC:                         3.567e+06\n",
      "Df Residuals:                  526156   BIC:                         3.567e+06\n",
      "Df Model:                           1                                         \n",
      "Covariance Type:            nonrobust                                         \n",
      "==============================================================================\n",
      "                 coef    std err          t      P>|t|      [0.025      0.975]\n",
      "------------------------------------------------------------------------------\n",
      "Intercept    -19.1345      0.103   -185.742      0.000     -19.336     -18.933\n",
      "Hüftumfang     1.0493      0.001    870.513      0.000       1.047       1.052\n",
      "==============================================================================\n",
      "Omnibus:                     3593.890   Durbin-Watson:                   2.000\n",
      "Prob(Omnibus):                  0.000   Jarque-Bera (JB):             4911.718\n",
      "Skew:                           0.094   Prob(JB):                         0.00\n",
      "Kurtosis:                       3.435   Cond. No.                         891.\n",
      "==============================================================================\n",
      "\n",
      "Notes:\n",
      "[1] Standard Errors assume that the covariance matrix of the errors is correctly specified.\n"
     ]
    }
   ],
   "source": [
    "# Zunächst wird nur der Vergleich zwischen Gewicht und Hüftumfang angeschaut, hierbei werden die Analysen für Männer und Frauen getrennt voneinander durchgeführt. \n",
    "# Männer \n",
    "gewicht_1m= ols(\"Gewicht ~ Hüftumfang\", data_m).fit()\n",
    "\n",
    "print(gewicht_1m.summary())"
   ]
  },
  {
   "cell_type": "markdown",
   "metadata": {},
   "source": [
    "Das Modell versucht, die Beziehung zwischen der abängige Variable (Gewicht) und der unabhängigen Variablen (Hüftumfang) zu modellieren, um zu verstehen, wie diese Variable das Gewicht beeinflussen könnte.\n",
    "\n",
    "Das Bestimmtheitsmaß erzielt einen Wert von 59%. Nachdem redizieren erhält man eine Korrelation von 0.77 für den Datensatz der Männer. "
   ]
  },
  {
   "cell_type": "code",
   "execution_count": 105,
   "metadata": {},
   "outputs": [
    {
     "name": "stdout",
     "output_type": "stream",
     "text": [
      "                            OLS Regression Results                            \n",
      "==============================================================================\n",
      "Dep. Variable:                Gewicht   R-squared:                       0.503\n",
      "Model:                            OLS   Adj. R-squared:                  0.503\n",
      "Method:                 Least Squares   F-statistic:                 4.699e+05\n",
      "Date:                Mon, 01 Jan 2024   Prob (F-statistic):               0.00\n",
      "Time:                        01:30:38   Log-Likelihood:            -1.5119e+06\n",
      "No. Observations:              464811   AIC:                         3.024e+06\n",
      "Df Residuals:                  464809   BIC:                         3.024e+06\n",
      "Df Model:                           1                                         \n",
      "Covariance Type:            nonrobust                                         \n",
      "==============================================================================\n",
      "                 coef    std err          t      P>|t|      [0.025      0.975]\n",
      "------------------------------------------------------------------------------\n",
      "Intercept      2.6444      0.078     34.030      0.000       2.492       2.797\n",
      "Hüftumfang     0.6890      0.001    685.475      0.000       0.687       0.691\n",
      "==============================================================================\n",
      "Omnibus:                    12003.921   Durbin-Watson:                   2.001\n",
      "Prob(Omnibus):                  0.000   Jarque-Bera (JB):            21679.310\n",
      "Skew:                           0.212   Prob(JB):                         0.00\n",
      "Kurtosis:                       3.969   Cond. No.                         655.\n",
      "==============================================================================\n",
      "\n",
      "Notes:\n",
      "[1] Standard Errors assume that the covariance matrix of the errors is correctly specified.\n"
     ]
    }
   ],
   "source": [
    "# Frauen \n",
    "gewicht_1f= ols(\"Gewicht ~ Hüftumfang\", data_f).fit()\n",
    "\n",
    "print(gewicht_1f.summary())"
   ]
  },
  {
   "cell_type": "markdown",
   "metadata": {},
   "source": [
    "Das Bestimmtheitsmaß erzielt einen Wert von 50,3%. Nachdem redizieren erhält man eine Korrelation von 0.71 für den Datensatz der \n",
    "Frauen. \n",
    "\n",
    "Es zeigt sich, dass trotz selber Parameter die Korrelation bei den Männern etwas höher ist als bei den Frauen."
   ]
  },
  {
   "cell_type": "code",
   "execution_count": 106,
   "metadata": {},
   "outputs": [
    {
     "name": "stdout",
     "output_type": "stream",
     "text": [
      "                            OLS Regression Results                            \n",
      "==============================================================================\n",
      "Dep. Variable:                Gewicht   R-squared:                       0.787\n",
      "Model:                            OLS   Adj. R-squared:                  0.787\n",
      "Method:                 Least Squares   F-statistic:                 4.869e+05\n",
      "Date:                Mon, 01 Jan 2024   Prob (F-statistic):               0.00\n",
      "Time:                        01:30:38   Log-Likelihood:            -1.6107e+06\n",
      "No. Observations:              526158   AIC:                         3.221e+06\n",
      "Df Residuals:                  526153   BIC:                         3.222e+06\n",
      "Df Model:                           4                                         \n",
      "Covariance Type:            nonrobust                                         \n",
      "===================================================================================\n",
      "                      coef    std err          t      P>|t|      [0.025      0.975]\n",
      "-----------------------------------------------------------------------------------\n",
      "Intercept         -99.0313      0.223   -443.528      0.000     -99.469     -98.594\n",
      "Hüftumfang          0.9883      0.001   1102.591      0.000       0.987       0.990\n",
      "Größe               0.5444      0.001    431.199      0.000       0.542       0.547\n",
      "Alter              -0.1594      0.001   -270.828      0.000      -0.161      -0.158\n",
      "LDL_Cholesterin     0.0066      0.000     32.653      0.000       0.006       0.007\n",
      "==============================================================================\n",
      "Omnibus:                    13535.756   Durbin-Watson:                   2.000\n",
      "Prob(Omnibus):                  0.000   Jarque-Bera (JB):            25775.358\n",
      "Skew:                           0.192   Prob(JB):                         0.00\n",
      "Kurtosis:                       4.014   Cond. No.                     7.07e+03\n",
      "==============================================================================\n",
      "\n",
      "Notes:\n",
      "[1] Standard Errors assume that the covariance matrix of the errors is correctly specified.\n",
      "[2] The condition number is large, 7.07e+03. This might indicate that there are\n",
      "strong multicollinearity or other numerical problems.\n"
     ]
    }
   ],
   "source": [
    "# In einem nächsten Schritt werden zunächst einmal intuitiv weitere Features hinzugenommen um zu untersuchen, wie sich diese auswirken: \n",
    "\n",
    "#Männer \n",
    "gewicht_2m= ols(\"Gewicht ~ Hüftumfang + Größe + Alter + LDL_Cholesterin\", data_m).fit()\n",
    "\n",
    "print(gewicht_2m.summary())"
   ]
  },
  {
   "cell_type": "markdown",
   "metadata": {},
   "source": [
    "Das Bestimmtheitsmaß erzielt einen Wert von 78,7%. Nachdem redizieren erhält man eine Korrelation von 0.89 für den Datensatz der Männer. "
   ]
  },
  {
   "cell_type": "code",
   "execution_count": 107,
   "metadata": {},
   "outputs": [
    {
     "name": "stdout",
     "output_type": "stream",
     "text": [
      "                            OLS Regression Results                            \n",
      "==============================================================================\n",
      "Dep. Variable:                Gewicht   R-squared:                       0.683\n",
      "Model:                            OLS   Adj. R-squared:                  0.683\n",
      "Method:                 Least Squares   F-statistic:                 2.508e+05\n",
      "Date:                Mon, 01 Jan 2024   Prob (F-statistic):               0.00\n",
      "Time:                        01:30:39   Log-Likelihood:            -1.4070e+06\n",
      "No. Observations:              464811   AIC:                         2.814e+06\n",
      "Df Residuals:                  464806   BIC:                         2.814e+06\n",
      "Df Model:                           4                                         \n",
      "Covariance Type:            nonrobust                                         \n",
      "===================================================================================\n",
      "                      coef    std err          t      P>|t|      [0.025      0.975]\n",
      "-----------------------------------------------------------------------------------\n",
      "Intercept         -74.9168      0.233   -321.104      0.000     -75.374     -74.459\n",
      "Hüftumfang          0.7867      0.001    902.232      0.000       0.785       0.788\n",
      "Größe               0.4754      0.001    345.402      0.000       0.473       0.478\n",
      "Alter              -0.0964      0.001   -149.670      0.000      -0.098      -0.095\n",
      "LDL_Cholesterin     0.0090      0.000     43.278      0.000       0.009       0.009\n",
      "==============================================================================\n",
      "Omnibus:                    12376.646   Durbin-Watson:                   1.998\n",
      "Prob(Omnibus):                  0.000   Jarque-Bera (JB):            23095.060\n",
      "Skew:                           0.208   Prob(JB):                         0.00\n",
      "Kurtosis:                       4.010   Cond. No.                     6.80e+03\n",
      "==============================================================================\n",
      "\n",
      "Notes:\n",
      "[1] Standard Errors assume that the covariance matrix of the errors is correctly specified.\n",
      "[2] The condition number is large, 6.8e+03. This might indicate that there are\n",
      "strong multicollinearity or other numerical problems.\n"
     ]
    }
   ],
   "source": [
    "# Frauen \n",
    "gewicht_2f= ols(\"Gewicht ~ Hüftumfang + Größe + Alter + LDL_Cholesterin\", data_f).fit()\n",
    "\n",
    "print(gewicht_2f.summary())"
   ]
  },
  {
   "cell_type": "markdown",
   "metadata": {},
   "source": [
    "Das Bestimmtheitsmaß erzielt einen Wert von 68,3%. Nachdem redizieren erhält man eine Korrelation von 0.83 für den Datensatz der Frauen. "
   ]
  },
  {
   "cell_type": "code",
   "execution_count": 108,
   "metadata": {},
   "outputs": [
    {
     "name": "stdout",
     "output_type": "stream",
     "text": [
      "                            OLS Regression Results                            \n",
      "==============================================================================\n",
      "Dep. Variable:                Gewicht   R-squared:                       0.763\n",
      "Model:                            OLS   Adj. R-squared:                  0.763\n",
      "Method:                 Least Squares   F-statistic:                 3.382e+05\n",
      "Date:                Mon, 01 Jan 2024   Prob (F-statistic):               0.00\n",
      "Time:                        01:30:39   Log-Likelihood:            -1.6395e+06\n",
      "No. Observations:              526158   AIC:                         3.279e+06\n",
      "Df Residuals:                  526152   BIC:                         3.279e+06\n",
      "Df Model:                           5                                         \n",
      "Covariance Type:            nonrobust                                         \n",
      "==================================================================================\n",
      "                     coef    std err          t      P>|t|      [0.025      0.975]\n",
      "----------------------------------------------------------------------------------\n",
      "Intercept       -136.6024      0.209   -652.726      0.000    -137.013    -136.192\n",
      "Hüftumfang         0.9381      0.001   1000.093      0.000       0.936       0.940\n",
      "Größe              0.6872      0.001    577.055      0.000       0.685       0.690\n",
      "Hämoglobin         0.7264      0.007    110.383      0.000       0.714       0.739\n",
      "Raucher_Status    -0.1439      0.009    -15.414      0.000      -0.162      -0.126\n",
      "Trinker            0.4945      0.017     29.919      0.000       0.462       0.527\n",
      "==============================================================================\n",
      "Omnibus:                    11339.565   Durbin-Watson:                   2.000\n",
      "Prob(Omnibus):                  0.000   Jarque-Bera (JB):            18716.586\n",
      "Skew:                           0.204   Prob(JB):                         0.00\n",
      "Kurtosis:                       3.829   Cond. No.                     5.27e+03\n",
      "==============================================================================\n",
      "\n",
      "Notes:\n",
      "[1] Standard Errors assume that the covariance matrix of the errors is correctly specified.\n",
      "[2] The condition number is large, 5.27e+03. This might indicate that there are\n",
      "strong multicollinearity or other numerical problems.\n"
     ]
    }
   ],
   "source": [
    "# Es werden andere Features hinzugenommen, die mit dem Gewicht korrelieren:\n",
    "\n",
    "#Männer \n",
    "gewicht_3m= ols(\"Gewicht ~ Hüftumfang + Größe + Hämoglobin + Raucher_Status + Trinker\", data_m).fit()\n",
    "\n",
    "print(gewicht_3m.summary())"
   ]
  },
  {
   "cell_type": "code",
   "execution_count": 109,
   "metadata": {},
   "outputs": [
    {
     "name": "stdout",
     "output_type": "stream",
     "text": [
      "                            OLS Regression Results                            \n",
      "==============================================================================\n",
      "Dep. Variable:                Gewicht   R-squared:                       0.669\n",
      "Model:                            OLS   Adj. R-squared:                  0.669\n",
      "Method:                 Least Squares   F-statistic:                 1.877e+05\n",
      "Date:                Mon, 01 Jan 2024   Prob (F-statistic):               0.00\n",
      "Time:                        01:30:39   Log-Likelihood:            -1.4175e+06\n",
      "No. Observations:              464811   AIC:                         2.835e+06\n",
      "Df Residuals:                  464805   BIC:                         2.835e+06\n",
      "Df Model:                           5                                         \n",
      "Covariance Type:            nonrobust                                         \n",
      "==================================================================================\n",
      "                     coef    std err          t      P>|t|      [0.025      0.975]\n",
      "----------------------------------------------------------------------------------\n",
      "Intercept        -92.6424      0.221   -419.636      0.000     -93.075     -92.210\n",
      "Hüftumfang         0.7426      0.001    888.202      0.000       0.741       0.744\n",
      "Größe              0.5719      0.001    464.906      0.000       0.570       0.574\n",
      "Hämoglobin         0.1872      0.006     29.180      0.000       0.175       0.200\n",
      "Raucher_Status    -0.1310      0.019     -6.769      0.000      -0.169      -0.093\n",
      "Trinker            0.5037      0.017     29.690      0.000       0.470       0.537\n",
      "==============================================================================\n",
      "Omnibus:                    15431.727   Durbin-Watson:                   1.998\n",
      "Prob(Omnibus):                  0.000   Jarque-Bera (JB):            27408.612\n",
      "Skew:                           0.279   Prob(JB):                         0.00\n",
      "Kurtosis:                       4.050   Cond. No.                     5.12e+03\n",
      "==============================================================================\n",
      "\n",
      "Notes:\n",
      "[1] Standard Errors assume that the covariance matrix of the errors is correctly specified.\n",
      "[2] The condition number is large, 5.12e+03. This might indicate that there are\n",
      "strong multicollinearity or other numerical problems.\n"
     ]
    }
   ],
   "source": [
    "# Frauen \n",
    "gewicht_3f= ols(\"Gewicht ~ Hüftumfang + Größe + Hämoglobin + Raucher_Status + Trinker\", data_f).fit()\n",
    "\n",
    "print(gewicht_3f.summary())"
   ]
  },
  {
   "cell_type": "markdown",
   "metadata": {},
   "source": [
    "Die vorherige Untersuchung mit den Features Hüftumfang, Größe, Alter & LDL_Cholesterin konnte bessere Werte aufweisen."
   ]
  },
  {
   "cell_type": "code",
   "execution_count": 110,
   "metadata": {},
   "outputs": [
    {
     "name": "stdout",
     "output_type": "stream",
     "text": [
      "\n",
      "ANOVA results\n",
      "   df_resid           ssr  df_diff       ss_diff              F  Pr(>F)\n",
      "0  526156.0  2.706933e+07      0.0           NaN            NaN     NaN\n",
      "1  526153.0  1.404931e+07      3.0  1.302002e+07  145684.575541     0.0\n",
      "2  526152.0  1.567429e+07      1.0 -1.624984e+06  -54547.189887     1.0\n"
     ]
    }
   ],
   "source": [
    "# Modellvergleich mit ANOVA \n",
    "\n",
    "anova_results = anova_lm(gewicht_1m, gewicht_2m, gewicht_3m)\n",
    "\n",
    "print('\\nANOVA results')\n",
    "print(anova_results)"
   ]
  },
  {
   "cell_type": "markdown",
   "metadata": {},
   "source": [
    "Um herauszufinden, ob welche Auswertung am besten ist, führen wir eine ANOVA Analyse durch.\n",
    "\n",
    "Da der Wert Pr(>F) von gewicht_2m kleiner als 0.05 ist, ist dieses tatsächlich besser als gewicht_1m.\n",
    "\n",
    "gewicht_3m ist jedoch nicht besser als gewicht_2m, da der Wert Pr(>F) von gewicht_3m größer als 0.05 ist."
   ]
  },
  {
   "cell_type": "code",
   "execution_count": 111,
   "metadata": {},
   "outputs": [
    {
     "name": "stdout",
     "output_type": "stream",
     "text": [
      "\n",
      "ANOVA results\n",
      "   df_resid           ssr  df_diff       ss_diff             F  Pr(>F)\n",
      "0  464809.0  1.819974e+07      0.0           NaN           NaN     NaN\n",
      "1  464806.0  1.158683e+07      3.0  6.612912e+06  84520.052149     0.0\n",
      "2  464805.0  1.212223e+07      1.0 -5.354041e+05 -20529.100683     1.0\n"
     ]
    }
   ],
   "source": [
    "# Modellvergleich mit ANOVA \n",
    "\n",
    "anova_results = anova_lm(gewicht_1f, gewicht_2f, gewicht_3f)\n",
    "\n",
    "print('\\nANOVA results')\n",
    "print(anova_results)"
   ]
  },
  {
   "cell_type": "markdown",
   "metadata": {},
   "source": [
    "Bei den Daten der Frauen ergibt sich dasselbe Ergebnis wie bei den Männern."
   ]
  },
  {
   "cell_type": "markdown",
   "metadata": {},
   "source": [
    "#### Wenn Sie sowohl modellieren als auch prädizieren wollen, führen Sie die Modellierung nur auf den Trainingsdaten durch, um zu vermeiden, dass Sie ungewollt aus Ihren Testdaten lernen. Trainieren Sie das Prädiktionsmodell im zweiten Schritt aufgrund der Erkenntnisse der Modellierung."
   ]
  },
  {
   "cell_type": "markdown",
   "metadata": {},
   "source": [
    "Zusätzlich zur Modellierung wird auch eine Prädiktion durchgeführt. Hier soll das Gewicht eines Probanden vorausgesagt werden. \n",
    "Um auch hier auf die biologischen Unterschiede zwischen den Geschlechtern zu achten, wird der Datensatz ebenso getrennt:"
   ]
  },
  {
   "cell_type": "code",
   "execution_count": 112,
   "metadata": {},
   "outputs": [],
   "source": [
    "# Trennung in des Dataset in Frauen und Männer\n",
    "data_m = dataset[dataset['Geschlecht'] == 1]\n",
    "\n",
    "data_f = dataset[dataset['Geschlecht'] == 0]"
   ]
  },
  {
   "cell_type": "code",
   "execution_count": 113,
   "metadata": {},
   "outputs": [
    {
     "data": {
      "image/png": "[encoded data removed]",
      "text/plain": [
       "<Figure size 400x300 with 1 Axes>"
      ]
     },
     "metadata": {},
     "output_type": "display_data"
    }
   ],
   "source": [
    "# Daten (männlich):\n",
    "\n",
    "plt.figure(figsize=(4, 3))\n",
    "plt.hist(data_m['Gewicht'])\n",
    "plt.xlabel('Gewicht')\n",
    "plt.ylabel('count')\n",
    "plt.tight_layout()"
   ]
  },
  {
   "cell_type": "code",
   "execution_count": 114,
   "metadata": {},
   "outputs": [
    {
     "data": {
      "image/png": "[encoded data removed]",
      "text/plain": [
       "<Figure size 400x300 with 1 Axes>"
      ]
     },
     "metadata": {},
     "output_type": "display_data"
    }
   ],
   "source": [
    "# Daten (weiblich):\n",
    "\n",
    "plt.figure(figsize=(4, 3))\n",
    "plt.hist(data_f['Gewicht'])\n",
    "plt.xlabel('Gewicht')\n",
    "plt.ylabel('count')\n",
    "plt.tight_layout()"
   ]
  },
  {
   "cell_type": "markdown",
   "metadata": {},
   "source": [
    "Männer:"
   ]
  },
  {
   "cell_type": "code",
   "execution_count": 115,
   "metadata": {},
   "outputs": [
    {
     "data": {
      "text/plain": [
       "count    526158.000000\n",
       "mean         70.128868\n",
       "std          11.204636\n",
       "min          40.000000\n",
       "25%          65.000000\n",
       "50%          70.000000\n",
       "75%          75.000000\n",
       "max         140.000000\n",
       "Name: Gewicht, dtype: float64"
      ]
     },
     "execution_count": 115,
     "metadata": {},
     "output_type": "execute_result"
    }
   ],
   "source": [
    "data_m['Gewicht'].describe()"
   ]
  },
  {
   "cell_type": "code",
   "execution_count": 116,
   "metadata": {},
   "outputs": [
    {
     "name": "stdout",
     "output_type": "stream",
     "text": [
      "295963 98655 131540\n"
     ]
    }
   ],
   "source": [
    "# Daten aufteilen: Testdaten\n",
    "X_train, X_test, y_train, y_test = train_test_split(data_m.drop(columns=['Gewicht']), data_m['Gewicht'], test_size=0.25)\n",
    "\n",
    "# Nicht-Testdaten weiter aufteilen: Training und Entwicklung\n",
    "X_train, X_dev, y_train, y_dev = train_test_split(X_train, y_train, test_size=0.25)\n",
    "\n",
    "print(len(X_train), len(X_dev), len(X_test))"
   ]
  },
  {
   "cell_type": "code",
   "execution_count": 117,
   "metadata": {},
   "outputs": [
    {
     "data": {
      "text/html": [
       "<style>#sk-container-id-9 {color: black;}#sk-container-id-9 pre{padding: 0;}#sk-container-id-9 div.sk-toggleable {background-color: white;}#sk-container-id-9 label.sk-toggleable__label {cursor: pointer;display: block;width: 100%;margin-bottom: 0;padding: 0.3em;box-sizing: border-box;text-align: center;}#sk-container-id-9 label.sk-toggleable__label-arrow:before {content: \"▸\";float: left;margin-right: 0.25em;color: #696969;}#sk-container-id-9 label.sk-toggleable__label-arrow:hover:before {color: black;}#sk-container-id-9 div.sk-estimator:hover label.sk-toggleable__label-arrow:before {color: black;}#sk-container-id-9 div.sk-toggleable__content {max-height: 0;max-width: 0;overflow: hidden;text-align: left;background-color: #f0f8ff;}#sk-container-id-9 div.sk-toggleable__content pre {margin: 0.2em;color: black;border-radius: 0.25em;background-color: #f0f8ff;}#sk-container-id-9 input.sk-toggleable__control:checked~div.sk-toggleable__content {max-height: 200px;max-width: 100%;overflow: auto;}#sk-container-id-9 input.sk-toggleable__control:checked~label.sk-toggleable__label-arrow:before {content: \"▾\";}#sk-container-id-9 div.sk-estimator input.sk-toggleable__control:checked~label.sk-toggleable__label {background-color: #d4ebff;}#sk-container-id-9 div.sk-label input.sk-toggleable__control:checked~label.sk-toggleable__label {background-color: #d4ebff;}#sk-container-id-9 input.sk-hidden--visually {border: 0;clip: rect(1px 1px 1px 1px);clip: rect(1px, 1px, 1px, 1px);height: 1px;margin: -1px;overflow: hidden;padding: 0;position: absolute;width: 1px;}#sk-container-id-9 div.sk-estimator {font-family: monospace;background-color: #f0f8ff;border: 1px dotted black;border-radius: 0.25em;box-sizing: border-box;margin-bottom: 0.5em;}#sk-container-id-9 div.sk-estimator:hover {background-color: #d4ebff;}#sk-container-id-9 div.sk-parallel-item::after {content: \"\";width: 100%;border-bottom: 1px solid gray;flex-grow: 1;}#sk-container-id-9 div.sk-label:hover label.sk-toggleable__label {background-color: #d4ebff;}#sk-container-id-9 div.sk-serial::before {content: \"\";position: absolute;border-left: 1px solid gray;box-sizing: border-box;top: 0;bottom: 0;left: 50%;z-index: 0;}#sk-container-id-9 div.sk-serial {display: flex;flex-direction: column;align-items: center;background-color: white;padding-right: 0.2em;padding-left: 0.2em;position: relative;}#sk-container-id-9 div.sk-item {position: relative;z-index: 1;}#sk-container-id-9 div.sk-parallel {display: flex;align-items: stretch;justify-content: center;background-color: white;position: relative;}#sk-container-id-9 div.sk-item::before, #sk-container-id-9 div.sk-parallel-item::before {content: \"\";position: absolute;border-left: 1px solid gray;box-sizing: border-box;top: 0;bottom: 0;left: 50%;z-index: -1;}#sk-container-id-9 div.sk-parallel-item {display: flex;flex-direction: column;z-index: 1;position: relative;background-color: white;}#sk-container-id-9 div.sk-parallel-item:first-child::after {align-self: flex-end;width: 50%;}#sk-container-id-9 div.sk-parallel-item:last-child::after {align-self: flex-start;width: 50%;}#sk-container-id-9 div.sk-parallel-item:only-child::after {width: 0;}#sk-container-id-9 div.sk-dashed-wrapped {border: 1px dashed gray;margin: 0 0.4em 0.5em 0.4em;box-sizing: border-box;padding-bottom: 0.4em;background-color: white;}#sk-container-id-9 div.sk-label label {font-family: monospace;font-weight: bold;display: inline-block;line-height: 1.2em;}#sk-container-id-9 div.sk-label-container {text-align: center;}#sk-container-id-9 div.sk-container {/* jupyter's `normalize.less` sets `[hidden] { display: none; }` but bootstrap.min.css set `[hidden] { display: none !important; }` so we also need the `!important` here to be able to override the default hidden behavior on the sphinx rendered scikit-learn.org. See: https://github.com/scikit-learn/scikit-learn/issues/21755 */display: inline-block !important;position: relative;}#sk-container-id-9 div.sk-text-repr-fallback {display: none;}</style><div id=\"sk-container-id-9\" class=\"sk-top-container\"><div class=\"sk-text-repr-fallback\"><pre>LinearRegression()</pre><b>In a Jupyter environment, please rerun this cell to show the HTML representation or trust the notebook. <br />On GitHub, the HTML representation is unable to render, please try loading this page with nbviewer.org.</b></div><div class=\"sk-container\" hidden><div class=\"sk-item\"><div class=\"sk-estimator sk-toggleable\"><input class=\"sk-toggleable__control sk-hidden--visually\" id=\"sk-estimator-id-9\" type=\"checkbox\" checked><label for=\"sk-estimator-id-9\" class=\"sk-toggleable__label sk-toggleable__label-arrow\">LinearRegression</label><div class=\"sk-toggleable__content\"><pre>LinearRegression()</pre></div></div></div></div></div>"
      ],
      "text/plain": [
       "LinearRegression()"
      ]
     },
     "execution_count": 117,
     "metadata": {},
     "output_type": "execute_result"
    }
   ],
   "source": [
    "clf = LinearRegression()\n",
    "clf.fit(X_train, y_train)"
   ]
  },
  {
   "cell_type": "code",
   "execution_count": 118,
   "metadata": {},
   "outputs": [
    {
     "name": "stdout",
     "output_type": "stream",
     "text": [
      "-139.87727012444105 [ 0.00000000e+00  6.81422060e-04  8.27948065e-01  6.34688162e-03\n",
      "  1.81109682e-03 -3.59249942e-04 -1.87544087e-04 -8.19137271e-05\n",
      "  6.96013692e-04  4.96763598e-04  1.08721312e-04 -3.52056347e-02\n",
      " -4.98611239e-04  2.09885051e-03  1.76530922e-05  1.55368352e-02\n",
      " -3.34499540e-02  2.84534996e+00]\n"
     ]
    }
   ],
   "source": [
    "print(clf.intercept_, clf.coef_)"
   ]
  },
  {
   "cell_type": "code",
   "execution_count": 119,
   "metadata": {},
   "outputs": [
    {
     "name": "stdout",
     "output_type": "stream",
     "text": [
      "RMSE: \n"
     ]
    },
    {
     "data": {
      "text/plain": [
       "0.5463344295139003"
      ]
     },
     "execution_count": 119,
     "metadata": {},
     "output_type": "execute_result"
    }
   ],
   "source": [
    "# Vorhersage machen und evaluieren\n",
    "predicted = clf.predict(X_dev)\n",
    "expected = y_dev\n",
    "\n",
    "print(\"RMSE: \")\n",
    "RMSE(expected, predicted)"
   ]
  },
  {
   "cell_type": "markdown",
   "metadata": {},
   "source": [
    "Ein RMSE von etwa 0,546 bedeutet, dass bei einer Modellvorhersage das Gewicht durchschnittlich um 0,546 Einheiten zu hoch oder zu tief sein wird.\n",
    "\n",
    "Das ist ein sehr guter Wert!"
   ]
  },
  {
   "cell_type": "markdown",
   "metadata": {},
   "source": [
    "Frauen:"
   ]
  },
  {
   "cell_type": "code",
   "execution_count": 120,
   "metadata": {},
   "outputs": [
    {
     "data": {
      "text/plain": [
       "count    464811.000000\n",
       "mean         55.537573\n",
       "std           8.873403\n",
       "min          25.000000\n",
       "25%          50.000000\n",
       "50%          55.000000\n",
       "75%          60.000000\n",
       "max         120.000000\n",
       "Name: Gewicht, dtype: float64"
      ]
     },
     "execution_count": 120,
     "metadata": {},
     "output_type": "execute_result"
    }
   ],
   "source": [
    "data_f['Gewicht'].describe()"
   ]
  },
  {
   "cell_type": "code",
   "execution_count": 121,
   "metadata": {},
   "outputs": [
    {
     "name": "stdout",
     "output_type": "stream",
     "text": [
      "278886 92962 92963\n"
     ]
    }
   ],
   "source": [
    "# Daten aufteilen: Testdaten\n",
    "X_train, X_test, y_train, y_test = train_test_split(data_f.drop(columns=['Gewicht']), data_f['Gewicht'], test_size=0.20)\n",
    "\n",
    "# Nicht-Testdaten weiter aufteilen: Training und Entwicklung\n",
    "X_train, X_dev, y_train, y_dev = train_test_split(X_train, y_train, test_size=0.25)\n",
    "\n",
    "print(len(X_train), len(X_dev), len(X_test))"
   ]
  },
  {
   "cell_type": "code",
   "execution_count": 127,
   "metadata": {},
   "outputs": [
    {
     "data": {
      "text/html": [
       "<style>#sk-container-id-11 {color: black;}#sk-container-id-11 pre{padding: 0;}#sk-container-id-11 div.sk-toggleable {background-color: white;}#sk-container-id-11 label.sk-toggleable__label {cursor: pointer;display: block;width: 100%;margin-bottom: 0;padding: 0.3em;box-sizing: border-box;text-align: center;}#sk-container-id-11 label.sk-toggleable__label-arrow:before {content: \"▸\";float: left;margin-right: 0.25em;color: #696969;}#sk-container-id-11 label.sk-toggleable__label-arrow:hover:before {color: black;}#sk-container-id-11 div.sk-estimator:hover label.sk-toggleable__label-arrow:before {color: black;}#sk-container-id-11 div.sk-toggleable__content {max-height: 0;max-width: 0;overflow: hidden;text-align: left;background-color: #f0f8ff;}#sk-container-id-11 div.sk-toggleable__content pre {margin: 0.2em;color: black;border-radius: 0.25em;background-color: #f0f8ff;}#sk-container-id-11 input.sk-toggleable__control:checked~div.sk-toggleable__content {max-height: 200px;max-width: 100%;overflow: auto;}#sk-container-id-11 input.sk-toggleable__control:checked~label.sk-toggleable__label-arrow:before {content: \"▾\";}#sk-container-id-11 div.sk-estimator input.sk-toggleable__control:checked~label.sk-toggleable__label {background-color: #d4ebff;}#sk-container-id-11 div.sk-label input.sk-toggleable__control:checked~label.sk-toggleable__label {background-color: #d4ebff;}#sk-container-id-11 input.sk-hidden--visually {border: 0;clip: rect(1px 1px 1px 1px);clip: rect(1px, 1px, 1px, 1px);height: 1px;margin: -1px;overflow: hidden;padding: 0;position: absolute;width: 1px;}#sk-container-id-11 div.sk-estimator {font-family: monospace;background-color: #f0f8ff;border: 1px dotted black;border-radius: 0.25em;box-sizing: border-box;margin-bottom: 0.5em;}#sk-container-id-11 div.sk-estimator:hover {background-color: #d4ebff;}#sk-container-id-11 div.sk-parallel-item::after {content: \"\";width: 100%;border-bottom: 1px solid gray;flex-grow: 1;}#sk-container-id-11 div.sk-label:hover label.sk-toggleable__label {background-color: #d4ebff;}#sk-container-id-11 div.sk-serial::before {content: \"\";position: absolute;border-left: 1px solid gray;box-sizing: border-box;top: 0;bottom: 0;left: 50%;z-index: 0;}#sk-container-id-11 div.sk-serial {display: flex;flex-direction: column;align-items: center;background-color: white;padding-right: 0.2em;padding-left: 0.2em;position: relative;}#sk-container-id-11 div.sk-item {position: relative;z-index: 1;}#sk-container-id-11 div.sk-parallel {display: flex;align-items: stretch;justify-content: center;background-color: white;position: relative;}#sk-container-id-11 div.sk-item::before, #sk-container-id-11 div.sk-parallel-item::before {content: \"\";position: absolute;border-left: 1px solid gray;box-sizing: border-box;top: 0;bottom: 0;left: 50%;z-index: -1;}#sk-container-id-11 div.sk-parallel-item {display: flex;flex-direction: column;z-index: 1;position: relative;background-color: white;}#sk-container-id-11 div.sk-parallel-item:first-child::after {align-self: flex-end;width: 50%;}#sk-container-id-11 div.sk-parallel-item:last-child::after {align-self: flex-start;width: 50%;}#sk-container-id-11 div.sk-parallel-item:only-child::after {width: 0;}#sk-container-id-11 div.sk-dashed-wrapped {border: 1px dashed gray;margin: 0 0.4em 0.5em 0.4em;box-sizing: border-box;padding-bottom: 0.4em;background-color: white;}#sk-container-id-11 div.sk-label label {font-family: monospace;font-weight: bold;display: inline-block;line-height: 1.2em;}#sk-container-id-11 div.sk-label-container {text-align: center;}#sk-container-id-11 div.sk-container {/* jupyter's `normalize.less` sets `[hidden] { display: none; }` but bootstrap.min.css set `[hidden] { display: none !important; }` so we also need the `!important` here to be able to override the default hidden behavior on the sphinx rendered scikit-learn.org. See: https://github.com/scikit-learn/scikit-learn/issues/21755 */display: inline-block !important;position: relative;}#sk-container-id-11 div.sk-text-repr-fallback {display: none;}</style><div id=\"sk-container-id-11\" class=\"sk-top-container\"><div class=\"sk-text-repr-fallback\"><pre>LinearRegression()</pre><b>In a Jupyter environment, please rerun this cell to show the HTML representation or trust the notebook. <br />On GitHub, the HTML representation is unable to render, please try loading this page with nbviewer.org.</b></div><div class=\"sk-container\" hidden><div class=\"sk-item\"><div class=\"sk-estimator sk-toggleable\"><input class=\"sk-toggleable__control sk-hidden--visually\" id=\"sk-estimator-id-11\" type=\"checkbox\" checked><label for=\"sk-estimator-id-11\" class=\"sk-toggleable__label sk-toggleable__label-arrow\">LinearRegression</label><div class=\"sk-toggleable__content\"><pre>LinearRegression()</pre></div></div></div></div></div>"
      ],
      "text/plain": [
       "LinearRegression()"
      ]
     },
     "execution_count": 127,
     "metadata": {},
     "output_type": "execute_result"
    }
   ],
   "source": [
    "clf = LinearRegression()\n",
    "clf.fit(X_train, y_train)"
   ]
  },
  {
   "cell_type": "code",
   "execution_count": 128,
   "metadata": {},
   "outputs": [
    {
     "name": "stdout",
     "output_type": "stream",
     "text": [
      "-110.60871883882652 [ 0.00000000e+00  1.44859856e-04  7.12811692e-01  3.72427236e-03\n",
      " -2.96356384e-04  2.67513865e-03  3.85752349e-05  5.00427846e-04\n",
      " -2.13101804e-03  5.26275508e-04  4.44653542e-05 -2.00105418e-02\n",
      " -6.58296895e-04  1.15905409e-03 -1.33226658e-04  3.26923785e-02\n",
      "  2.43202963e-03  2.39409126e+00]\n"
     ]
    }
   ],
   "source": [
    "print(clf.intercept_, clf.coef_)"
   ]
  },
  {
   "cell_type": "code",
   "execution_count": 129,
   "metadata": {},
   "outputs": [
    {
     "name": "stdout",
     "output_type": "stream",
     "text": [
      "RMSE: \n"
     ]
    },
    {
     "data": {
      "text/plain": [
       "0.4481168563921662"
      ]
     },
     "execution_count": 129,
     "metadata": {},
     "output_type": "execute_result"
    }
   ],
   "source": [
    "# Vorhersage machen und evaluieren\n",
    "predicted = clf.predict(X_dev)\n",
    "expected = y_dev\n",
    "\n",
    "print(\"RMSE: \")\n",
    "RMSE(expected, predicted)"
   ]
  },
  {
   "cell_type": "markdown",
   "metadata": {},
   "source": [
    "Ein RMSE von etwa 0,448 bedeutet, dass bei einer Modellvorhersage das Gewicht durchschnittlich um 0,448 Einheiten zu hoch oder zu tief sein wird.\n",
    "\n",
    "Auch das ist ein sehr guter Wert!"
   ]
  }
 ],
 "metadata": {
  "kernelspec": {
   "display_name": "Python 3",
   "language": "python",
   "name": "python3"
  },
  "language_info": {
   "codemirror_mode": {
    "name": "ipython",
    "version": 3
   },
   "file_extension": ".py",
   "mimetype": "text/x-python",
   "name": "python",
   "nbconvert_exporter": "python",
   "pygments_lexer": "ipython3",
   "version": "3.12.1"
  }
 },
 "nbformat": 4,
 "nbformat_minor": 2
}
