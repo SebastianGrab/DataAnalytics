{
 "cells": [
  {
   "cell_type": "markdown",
   "metadata": {},
   "source": [
    "# Modeling 4: Regression\n",
    "\n",
    "## Anforderungen an Projektumsetzung: Regression\n",
    "\n",
    "\n",
    "Falls die Anforderungen auf den eigenen Projektdatensatz nicht anwendbar sind, gibt es folgende Möglichkeiten:\n",
    "\n",
    "- Für diese Übung ein realwertiges Feature des Datensatzes zur Zielvariablen erklären\n",
    "und/oder\n",
    "- als Kategorien oder String-Werte hinterlegte Features entweder ausschließen oder im Notfall als Zahlen codieren\n",
    "\n",
    "- Datensatz um passende Daten erweitern entweder manuell, per Anspielen aus weiterer Datenquelle oder zur Not per zufälliger Datengenerierung/-simulation\n",
    "\n",
    "- Datensatz außerhalb des Projekts wählen und Anforderungen daran umsetzen\n",
    "\n",
    "Anforderungen:\n",
    "- Entscheiden Sie, ob Sie mit der linearen Regression modellieren, prädizieren, oder beides erreichen wollen.\n",
    "\n",
    "- Führen Sie die entsprechende(n) Analyse(n) methodisch sauber durch und berichten Sie entsprechend der    eingeführten Kriterien und Evaluationsmaße das Ergebnis.\n",
    "  \n",
    "- Wenn Sie sowohl modellieren als auch prädizieren wollen, führen Sie die Modellierung nur auf den Trainingsdaten durch, um zu vermeiden, dass Sie ungewollt aus Ihren Testdaten lernen. Trainieren Sie das Prädiktionsmodell im zweiten Schritt aufgrund der Erkenntnisse der Modellierung."
   ]
  },
  {
   "cell_type": "markdown",
   "metadata": {},
   "source": [
    "#### Laden der Bibliotheken & des Datensatzes"
   ]
  },
  {
   "cell_type": "code",
   "execution_count": 159,
   "metadata": {},
   "outputs": [],
   "source": [
    "# Import der benötigten Bibliotheken\n",
    "\n",
    "import importlib\n",
    "import init_notebook\n",
    "\n",
    "import pandas as pd\n",
    "import numpy as np\n",
    "import os\n",
    "import matplotlib.pyplot as plt\n",
    "import seaborn as sns\n",
    "\n",
    "from sklearn.decomposition import PCA\n",
    "from sklearn.preprocessing import StandardScaler\n",
    "from sklearn.pipeline import Pipeline\n",
    "from sklearn.linear_model import LogisticRegression\n",
    "from sklearn.model_selection import train_test_split\n",
    "\n",
    "import statsmodels.api as sm\n",
    "from statsmodels.formula.api import ols\n",
    "from statsmodels.stats.anova import anova_lm\n",
    "\n",
    "from sklearn.datasets import fetch_california_housing\n",
    "from sklearn.model_selection import train_test_split\n",
    "from sklearn.linear_model import LinearRegression\n",
    "from sklearn.metrics import mean_squared_error as RMSE\n",
    "from sklearn.preprocessing import PolynomialFeatures "
   ]
  },
  {
   "cell_type": "code",
   "execution_count": 160,
   "metadata": {},
   "outputs": [],
   "source": [
    "importlib.reload(init_notebook)\n",
    "\n",
    "dataset = init_notebook.get_final_dataset()"
   ]
  },
  {
   "cell_type": "markdown",
   "metadata": {},
   "source": [
    "#### Entscheiden Sie, ob Sie mit der linearen Regression modellieren, prädizieren, oder beides erreichen wollen."
   ]
  },
  {
   "cell_type": "markdown",
   "metadata": {},
   "source": [
    "Für dieses Notebook wird zunächst der Ansatz der Modellierung gewählt. Später wird zudem eine Prädiktion durchgeführt. \n",
    "\n",
    "Durch Modellierung wird versucht neue und tiefgreifendere Erkentnisse zu gewinnen. \n",
    "Ziel wäre es beispielsweise Aussagen treffen zu können wie: \"Personen mit dem Merkmal X neigen dazu an Hypertonie erkrankt zu sein\". \n",
    "\n",
    "Als Zielvariable wird das Feature \"Gewicht\" gewählt, da unser Datensatz nur wenige passende numerische Werte vorgibt und das Feature auch ohne spezifisches Fachwissen verstanden werden kann. "
   ]
  },
  {
   "cell_type": "markdown",
   "metadata": {},
   "source": [
    "#### Führen Sie die entsprechende(n) Analyse(n) methodisch sauber durch und berichten Sie entsprechend der eingeführten Kriterien und Evaluationsmaße das Ergebnis."
   ]
  },
  {
   "cell_type": "code",
   "execution_count": 161,
   "metadata": {},
   "outputs": [],
   "source": [
    "# Trennung in des Dataset in Frauen und Männer\n",
    "data_m = dataset[dataset['Geschlecht'] == 1]\n",
    "\n",
    "data_f = dataset[dataset['Geschlecht'] == 0]"
   ]
  },
  {
   "cell_type": "code",
   "execution_count": 162,
   "metadata": {},
   "outputs": [
    {
     "name": "stdout",
     "output_type": "stream",
     "text": [
      "                            OLS Regression Results                            \n",
      "==============================================================================\n",
      "Dep. Variable:                Gewicht   R-squared:                       0.590\n",
      "Model:                            OLS   Adj. R-squared:                  0.590\n",
      "Method:                 Least Squares   F-statistic:                 7.578e+05\n",
      "Date:                Tue, 09 Jan 2024   Prob (F-statistic):               0.00\n",
      "Time:                        09:00:39   Log-Likelihood:            -1.7833e+06\n",
      "No. Observations:              526158   AIC:                         3.567e+06\n",
      "Df Residuals:                  526156   BIC:                         3.567e+06\n",
      "Df Model:                           1                                         \n",
      "Covariance Type:            nonrobust                                         \n",
      "==============================================================================\n",
      "                 coef    std err          t      P>|t|      [0.025      0.975]\n",
      "------------------------------------------------------------------------------\n",
      "Intercept    -19.1345      0.103   -185.742      0.000     -19.336     -18.933\n",
      "Hüftumfang     1.0493      0.001    870.513      0.000       1.047       1.052\n",
      "==============================================================================\n",
      "Omnibus:                     3593.890   Durbin-Watson:                   2.000\n",
      "Prob(Omnibus):                  0.000   Jarque-Bera (JB):             4911.718\n",
      "Skew:                           0.094   Prob(JB):                         0.00\n",
      "Kurtosis:                       3.435   Cond. No.                         891.\n",
      "==============================================================================\n",
      "\n",
      "Notes:\n",
      "[1] Standard Errors assume that the covariance matrix of the errors is correctly specified.\n"
     ]
    }
   ],
   "source": [
    "# Zunächst wird nur der Vergleich zwischen Gewicht und Hüftumfang angeschaut, hierbei werden die Analysen für Männer und Frauen getrennt voneinander durchgeführt. \n",
    "# Männer \n",
    "gewicht_1m= ols(\"Gewicht ~ Hüftumfang\", data_m).fit()\n",
    "\n",
    "print(gewicht_1m.summary())"
   ]
  },
  {
   "cell_type": "markdown",
   "metadata": {},
   "source": [
    "Das Modell versucht, die Beziehung zwischen der abängige Variable (Gewicht) und der unabhängigen Variablen (Hüftumfang) zu modellieren, um zu verstehen, wie diese Variable das Gewicht beeinflussen könnte.\n",
    "\n",
    "Das Bestimmtheitsmaß erzielt einen Wert von 59%. Nachdem redizieren erhält man eine Korrelation von 0.77 für den Datensatz der Männer. "
   ]
  },
  {
   "cell_type": "code",
   "execution_count": 163,
   "metadata": {},
   "outputs": [
    {
     "name": "stdout",
     "output_type": "stream",
     "text": [
      "                            OLS Regression Results                            \n",
      "==============================================================================\n",
      "Dep. Variable:                Gewicht   R-squared:                       0.503\n",
      "Model:                            OLS   Adj. R-squared:                  0.503\n",
      "Method:                 Least Squares   F-statistic:                 4.699e+05\n",
      "Date:                Tue, 09 Jan 2024   Prob (F-statistic):               0.00\n",
      "Time:                        09:00:39   Log-Likelihood:            -1.5119e+06\n",
      "No. Observations:              464811   AIC:                         3.024e+06\n",
      "Df Residuals:                  464809   BIC:                         3.024e+06\n",
      "Df Model:                           1                                         \n",
      "Covariance Type:            nonrobust                                         \n",
      "==============================================================================\n",
      "                 coef    std err          t      P>|t|      [0.025      0.975]\n",
      "------------------------------------------------------------------------------\n",
      "Intercept      2.6444      0.078     34.030      0.000       2.492       2.797\n",
      "Hüftumfang     0.6890      0.001    685.475      0.000       0.687       0.691\n",
      "==============================================================================\n",
      "Omnibus:                    12003.921   Durbin-Watson:                   2.001\n",
      "Prob(Omnibus):                  0.000   Jarque-Bera (JB):            21679.310\n",
      "Skew:                           0.212   Prob(JB):                         0.00\n",
      "Kurtosis:                       3.969   Cond. No.                         655.\n",
      "==============================================================================\n",
      "\n",
      "Notes:\n",
      "[1] Standard Errors assume that the covariance matrix of the errors is correctly specified.\n"
     ]
    }
   ],
   "source": [
    "# Frauen \n",
    "gewicht_1f= ols(\"Gewicht ~ Hüftumfang\", data_f).fit()\n",
    "\n",
    "print(gewicht_1f.summary())"
   ]
  },
  {
   "cell_type": "markdown",
   "metadata": {},
   "source": [
    "Das Bestimmtheitsmaß erzielt einen Wert von 50,3%. Nachdem redizieren erhält man eine Korrelation von 0.71 für den Datensatz der \n",
    "Frauen. \n",
    "\n",
    "Es zeigt sich, dass trotz selber Parameter die Korrelation bei den Männern etwas höher ist als bei den Frauen."
   ]
  },
  {
   "cell_type": "code",
   "execution_count": 164,
   "metadata": {},
   "outputs": [
    {
     "name": "stdout",
     "output_type": "stream",
     "text": [
      "                            OLS Regression Results                            \n",
      "==============================================================================\n",
      "Dep. Variable:                Gewicht   R-squared:                       0.787\n",
      "Model:                            OLS   Adj. R-squared:                  0.787\n",
      "Method:                 Least Squares   F-statistic:                 4.869e+05\n",
      "Date:                Tue, 09 Jan 2024   Prob (F-statistic):               0.00\n",
      "Time:                        09:00:39   Log-Likelihood:            -1.6107e+06\n",
      "No. Observations:              526158   AIC:                         3.221e+06\n",
      "Df Residuals:                  526153   BIC:                         3.222e+06\n",
      "Df Model:                           4                                         \n",
      "Covariance Type:            nonrobust                                         \n",
      "===================================================================================\n",
      "                      coef    std err          t      P>|t|      [0.025      0.975]\n",
      "-----------------------------------------------------------------------------------\n",
      "Intercept         -99.0313      0.223   -443.528      0.000     -99.469     -98.594\n",
      "Hüftumfang          0.9883      0.001   1102.591      0.000       0.987       0.990\n",
      "Größe               0.5444      0.001    431.199      0.000       0.542       0.547\n",
      "Alter              -0.1594      0.001   -270.828      0.000      -0.161      -0.158\n",
      "LDL_Cholesterin     0.0066      0.000     32.653      0.000       0.006       0.007\n",
      "==============================================================================\n",
      "Omnibus:                    13535.756   Durbin-Watson:                   2.000\n",
      "Prob(Omnibus):                  0.000   Jarque-Bera (JB):            25775.358\n",
      "Skew:                           0.192   Prob(JB):                         0.00\n",
      "Kurtosis:                       4.014   Cond. No.                     7.07e+03\n",
      "==============================================================================\n",
      "\n",
      "Notes:\n",
      "[1] Standard Errors assume that the covariance matrix of the errors is correctly specified.\n",
      "[2] The condition number is large, 7.07e+03. This might indicate that there are\n",
      "strong multicollinearity or other numerical problems.\n"
     ]
    }
   ],
   "source": [
    "# In einem nächsten Schritt werden zunächst einmal intuitiv weitere Features hinzugenommen um zu untersuchen, wie sich diese auswirken: \n",
    "\n",
    "#Männer \n",
    "gewicht_2m= ols(\"Gewicht ~ Hüftumfang + Größe + Alter + LDL_Cholesterin\", data_m).fit()\n",
    "\n",
    "print(gewicht_2m.summary())"
   ]
  },
  {
   "cell_type": "markdown",
   "metadata": {},
   "source": [
    "Das Bestimmtheitsmaß erzielt einen Wert von 78,7%. Nachdem redizieren erhält man eine Korrelation von 0.89 für den Datensatz der Männer. "
   ]
  },
  {
   "cell_type": "code",
   "execution_count": 165,
   "metadata": {},
   "outputs": [
    {
     "name": "stdout",
     "output_type": "stream",
     "text": [
      "                            OLS Regression Results                            \n",
      "==============================================================================\n",
      "Dep. Variable:                Gewicht   R-squared:                       0.683\n",
      "Model:                            OLS   Adj. R-squared:                  0.683\n",
      "Method:                 Least Squares   F-statistic:                 2.508e+05\n",
      "Date:                Tue, 09 Jan 2024   Prob (F-statistic):               0.00\n",
      "Time:                        09:00:39   Log-Likelihood:            -1.4070e+06\n",
      "No. Observations:              464811   AIC:                         2.814e+06\n",
      "Df Residuals:                  464806   BIC:                         2.814e+06\n",
      "Df Model:                           4                                         \n",
      "Covariance Type:            nonrobust                                         \n",
      "===================================================================================\n",
      "                      coef    std err          t      P>|t|      [0.025      0.975]\n",
      "-----------------------------------------------------------------------------------\n",
      "Intercept         -74.9168      0.233   -321.104      0.000     -75.374     -74.459\n",
      "Hüftumfang          0.7867      0.001    902.232      0.000       0.785       0.788\n",
      "Größe               0.4754      0.001    345.402      0.000       0.473       0.478\n",
      "Alter              -0.0964      0.001   -149.670      0.000      -0.098      -0.095\n",
      "LDL_Cholesterin     0.0090      0.000     43.278      0.000       0.009       0.009\n",
      "==============================================================================\n",
      "Omnibus:                    12376.646   Durbin-Watson:                   1.998\n",
      "Prob(Omnibus):                  0.000   Jarque-Bera (JB):            23095.060\n",
      "Skew:                           0.208   Prob(JB):                         0.00\n",
      "Kurtosis:                       4.010   Cond. No.                     6.80e+03\n",
      "==============================================================================\n",
      "\n",
      "Notes:\n",
      "[1] Standard Errors assume that the covariance matrix of the errors is correctly specified.\n",
      "[2] The condition number is large, 6.8e+03. This might indicate that there are\n",
      "strong multicollinearity or other numerical problems.\n"
     ]
    }
   ],
   "source": [
    "# Frauen \n",
    "gewicht_2f= ols(\"Gewicht ~ Hüftumfang + Größe + Alter + LDL_Cholesterin\", data_f).fit()\n",
    "\n",
    "print(gewicht_2f.summary())"
   ]
  },
  {
   "cell_type": "markdown",
   "metadata": {},
   "source": [
    "Das Bestimmtheitsmaß erzielt einen Wert von 68,3%. Nachdem redizieren erhält man eine Korrelation von 0.83 für den Datensatz der Frauen. "
   ]
  },
  {
   "cell_type": "code",
   "execution_count": 166,
   "metadata": {},
   "outputs": [
    {
     "name": "stdout",
     "output_type": "stream",
     "text": [
      "                            OLS Regression Results                            \n",
      "==============================================================================\n",
      "Dep. Variable:                Gewicht   R-squared:                       0.763\n",
      "Model:                            OLS   Adj. R-squared:                  0.763\n",
      "Method:                 Least Squares   F-statistic:                 3.382e+05\n",
      "Date:                Tue, 09 Jan 2024   Prob (F-statistic):               0.00\n",
      "Time:                        09:00:40   Log-Likelihood:            -1.6395e+06\n",
      "No. Observations:              526158   AIC:                         3.279e+06\n",
      "Df Residuals:                  526152   BIC:                         3.279e+06\n",
      "Df Model:                           5                                         \n",
      "Covariance Type:            nonrobust                                         \n",
      "==================================================================================\n",
      "                     coef    std err          t      P>|t|      [0.025      0.975]\n",
      "----------------------------------------------------------------------------------\n",
      "Intercept       -136.6024      0.209   -652.726      0.000    -137.013    -136.192\n",
      "Hüftumfang         0.9381      0.001   1000.093      0.000       0.936       0.940\n",
      "Größe              0.6872      0.001    577.055      0.000       0.685       0.690\n",
      "Hämoglobin         0.7264      0.007    110.383      0.000       0.714       0.739\n",
      "Raucher_Status    -0.1439      0.009    -15.414      0.000      -0.162      -0.126\n",
      "Trinker            0.4945      0.017     29.919      0.000       0.462       0.527\n",
      "==============================================================================\n",
      "Omnibus:                    11339.565   Durbin-Watson:                   2.000\n",
      "Prob(Omnibus):                  0.000   Jarque-Bera (JB):            18716.586\n",
      "Skew:                           0.204   Prob(JB):                         0.00\n",
      "Kurtosis:                       3.829   Cond. No.                     5.27e+03\n",
      "==============================================================================\n",
      "\n",
      "Notes:\n",
      "[1] Standard Errors assume that the covariance matrix of the errors is correctly specified.\n",
      "[2] The condition number is large, 5.27e+03. This might indicate that there are\n",
      "strong multicollinearity or other numerical problems.\n"
     ]
    }
   ],
   "source": [
    "# Es werden andere Features hinzugenommen, die mit dem Gewicht korrelieren:\n",
    "\n",
    "#Männer \n",
    "gewicht_3m= ols(\"Gewicht ~ Hüftumfang + Größe + Hämoglobin + Raucher_Status + Trinker\", data_m).fit()\n",
    "\n",
    "print(gewicht_3m.summary())"
   ]
  },
  {
   "cell_type": "code",
   "execution_count": 167,
   "metadata": {},
   "outputs": [
    {
     "name": "stdout",
     "output_type": "stream",
     "text": [
      "                            OLS Regression Results                            \n",
      "==============================================================================\n",
      "Dep. Variable:                Gewicht   R-squared:                       0.669\n",
      "Model:                            OLS   Adj. R-squared:                  0.669\n",
      "Method:                 Least Squares   F-statistic:                 1.877e+05\n",
      "Date:                Tue, 09 Jan 2024   Prob (F-statistic):               0.00\n",
      "Time:                        09:00:40   Log-Likelihood:            -1.4175e+06\n",
      "No. Observations:              464811   AIC:                         2.835e+06\n",
      "Df Residuals:                  464805   BIC:                         2.835e+06\n",
      "Df Model:                           5                                         \n",
      "Covariance Type:            nonrobust                                         \n",
      "==================================================================================\n",
      "                     coef    std err          t      P>|t|      [0.025      0.975]\n",
      "----------------------------------------------------------------------------------\n",
      "Intercept        -92.6424      0.221   -419.636      0.000     -93.075     -92.210\n",
      "Hüftumfang         0.7426      0.001    888.202      0.000       0.741       0.744\n",
      "Größe              0.5719      0.001    464.906      0.000       0.570       0.574\n",
      "Hämoglobin         0.1872      0.006     29.180      0.000       0.175       0.200\n",
      "Raucher_Status    -0.1310      0.019     -6.769      0.000      -0.169      -0.093\n",
      "Trinker            0.5037      0.017     29.690      0.000       0.470       0.537\n",
      "==============================================================================\n",
      "Omnibus:                    15431.727   Durbin-Watson:                   1.998\n",
      "Prob(Omnibus):                  0.000   Jarque-Bera (JB):            27408.612\n",
      "Skew:                           0.279   Prob(JB):                         0.00\n",
      "Kurtosis:                       4.050   Cond. No.                     5.12e+03\n",
      "==============================================================================\n",
      "\n",
      "Notes:\n",
      "[1] Standard Errors assume that the covariance matrix of the errors is correctly specified.\n",
      "[2] The condition number is large, 5.12e+03. This might indicate that there are\n",
      "strong multicollinearity or other numerical problems.\n"
     ]
    }
   ],
   "source": [
    "# Frauen \n",
    "gewicht_3f= ols(\"Gewicht ~ Hüftumfang + Größe + Hämoglobin + Raucher_Status + Trinker\", data_f).fit()\n",
    "\n",
    "print(gewicht_3f.summary())"
   ]
  },
  {
   "cell_type": "markdown",
   "metadata": {},
   "source": [
    "Die vorherige Untersuchung mit den Features Hüftumfang, Größe, Alter & LDL_Cholesterin konnte bessere Werte aufweisen."
   ]
  },
  {
   "cell_type": "code",
   "execution_count": 168,
   "metadata": {},
   "outputs": [
    {
     "name": "stdout",
     "output_type": "stream",
     "text": [
      "\n",
      "ANOVA results\n",
      "   df_resid           ssr  df_diff       ss_diff              F  Pr(>F)\n",
      "0  526156.0  2.706933e+07      0.0           NaN            NaN     NaN\n",
      "1  526153.0  1.404931e+07      3.0  1.302002e+07  145684.575541     0.0\n",
      "2  526152.0  1.567429e+07      1.0 -1.624984e+06  -54547.189887     1.0\n"
     ]
    }
   ],
   "source": [
    "# Modellvergleich mit ANOVA \n",
    "\n",
    "anova_results = anova_lm(gewicht_1m, gewicht_2m, gewicht_3m)\n",
    "\n",
    "print('\\nANOVA results')\n",
    "print(anova_results)"
   ]
  },
  {
   "cell_type": "markdown",
   "metadata": {},
   "source": [
    "Um herauszufinden, ob welche Auswertung am besten ist, führen wir eine ANOVA Analyse durch.\n",
    "\n",
    "Da der Wert Pr(>F) von gewicht_2m kleiner als 0.05 ist, ist dieses tatsächlich besser als gewicht_1m.\n",
    "\n",
    "gewicht_3m ist jedoch nicht besser als gewicht_2m, da der Wert Pr(>F) von gewicht_3m größer als 0.05 ist."
   ]
  },
  {
   "cell_type": "code",
   "execution_count": 169,
   "metadata": {},
   "outputs": [
    {
     "name": "stdout",
     "output_type": "stream",
     "text": [
      "\n",
      "ANOVA results\n",
      "   df_resid           ssr  df_diff       ss_diff             F  Pr(>F)\n",
      "0  464809.0  1.819974e+07      0.0           NaN           NaN     NaN\n",
      "1  464806.0  1.158683e+07      3.0  6.612912e+06  84520.052149     0.0\n",
      "2  464805.0  1.212223e+07      1.0 -5.354041e+05 -20529.100683     1.0\n"
     ]
    }
   ],
   "source": [
    "# Modellvergleich mit ANOVA \n",
    "\n",
    "anova_results = anova_lm(gewicht_1f, gewicht_2f, gewicht_3f)\n",
    "\n",
    "print('\\nANOVA results')\n",
    "print(anova_results)"
   ]
  },
  {
   "cell_type": "markdown",
   "metadata": {},
   "source": [
    "Bei den Daten der Frauen ergibt sich dasselbe Ergebnis wie bei den Männern."
   ]
  },
  {
   "cell_type": "markdown",
   "metadata": {},
   "source": [
    "#### Wenn Sie sowohl modellieren als auch prädizieren wollen, führen Sie die Modellierung nur auf den Trainingsdaten durch, um zu vermeiden, dass Sie ungewollt aus Ihren Testdaten lernen. Trainieren Sie das Prädiktionsmodell im zweiten Schritt aufgrund der Erkenntnisse der Modellierung."
   ]
  },
  {
   "cell_type": "markdown",
   "metadata": {},
   "source": [
    "Zusätzlich zur Modellierung wird auch eine Prädiktion durchgeführt. Hier soll das Gewicht eines Probanden vorausgesagt werden. \n",
    "Um auch hier auf die biologischen Unterschiede zwischen den Geschlechtern zu achten, wird der Datensatz ebenso getrennt:"
   ]
  },
  {
   "cell_type": "code",
   "execution_count": 170,
   "metadata": {},
   "outputs": [],
   "source": [
    "# Trennung in des Dataset in Frauen und Männer\n",
    "data_m = dataset[dataset['Geschlecht'] == 1]\n",
    "\n",
    "data_f = dataset[dataset['Geschlecht'] == 0]"
   ]
  },
  {
   "cell_type": "code",
   "execution_count": 171,
   "metadata": {},
   "outputs": [
    {
     "data": {
      "image/png": "[encoded data removed]",
      "text/plain": [
       "<Figure size 400x300 with 1 Axes>"
      ]
     },
     "metadata": {},
     "output_type": "display_data"
    }
   ],
   "source": [
    "# Daten (männlich):\n",
    "\n",
    "plt.figure(figsize=(4, 3))\n",
    "plt.hist(data_m['Gewicht'])\n",
    "plt.xlabel('Gewicht')\n",
    "plt.ylabel('count')\n",
    "plt.tight_layout()"
   ]
  },
  {
   "cell_type": "code",
   "execution_count": 172,
   "metadata": {},
   "outputs": [
    {
     "data": {
      "image/png": "[encoded data removed]",
      "text/plain": [
       "<Figure size 400x300 with 1 Axes>"
      ]
     },
     "metadata": {},
     "output_type": "display_data"
    }
   ],
   "source": [
    "# Daten (weiblich):\n",
    "\n",
    "plt.figure(figsize=(4, 3))\n",
    "plt.hist(data_f['Gewicht'])\n",
    "plt.xlabel('Gewicht')\n",
    "plt.ylabel('count')\n",
    "plt.tight_layout()"
   ]
  },
  {
   "cell_type": "markdown",
   "metadata": {},
   "source": [
    "Männer:"
   ]
  },
  {
   "cell_type": "code",
   "execution_count": 173,
   "metadata": {},
   "outputs": [
    {
     "data": {
      "text/plain": [
       "count    526158.000000\n",
       "mean         70.128868\n",
       "std          11.204636\n",
       "min          40.000000\n",
       "25%          65.000000\n",
       "50%          70.000000\n",
       "75%          75.000000\n",
       "max         140.000000\n",
       "Name: Gewicht, dtype: float64"
      ]
     },
     "execution_count": 173,
     "metadata": {},
     "output_type": "execute_result"
    }
   ],
   "source": [
    "data_m['Gewicht'].describe()"
   ]
  },
  {
   "cell_type": "code",
   "execution_count": 174,
   "metadata": {},
   "outputs": [
    {
     "name": "stdout",
     "output_type": "stream",
     "text": [
      "295963 98655 131540\n"
     ]
    }
   ],
   "source": [
    "# Daten aufteilen: Testdaten\n",
    "X_train, X_test, y_train, y_test = train_test_split(data_m.drop(columns=['Gewicht']), data_m['Gewicht'], test_size=0.25)\n",
    "\n",
    "# Nicht-Testdaten weiter aufteilen: Training und Entwicklung\n",
    "X_train, X_dev, y_train, y_dev = train_test_split(X_train, y_train, test_size=0.25)\n",
    "\n",
    "print(len(X_train), len(X_dev), len(X_test))"
   ]
  },
  {
   "cell_type": "code",
   "execution_count": 175,
   "metadata": {},
   "outputs": [
    {
     "data": {
      "text/html": [
       "<style>#sk-container-id-16 {color: black;}#sk-container-id-16 pre{padding: 0;}#sk-container-id-16 div.sk-toggleable {background-color: white;}#sk-container-id-16 label.sk-toggleable__label {cursor: pointer;display: block;width: 100%;margin-bottom: 0;padding: 0.3em;box-sizing: border-box;text-align: center;}#sk-container-id-16 label.sk-toggleable__label-arrow:before {content: \"▸\";float: left;margin-right: 0.25em;color: #696969;}#sk-container-id-16 label.sk-toggleable__label-arrow:hover:before {color: black;}#sk-container-id-16 div.sk-estimator:hover label.sk-toggleable__label-arrow:before {color: black;}#sk-container-id-16 div.sk-toggleable__content {max-height: 0;max-width: 0;overflow: hidden;text-align: left;background-color: #f0f8ff;}#sk-container-id-16 div.sk-toggleable__content pre {margin: 0.2em;color: black;border-radius: 0.25em;background-color: #f0f8ff;}#sk-container-id-16 input.sk-toggleable__control:checked~div.sk-toggleable__content {max-height: 200px;max-width: 100%;overflow: auto;}#sk-container-id-16 input.sk-toggleable__control:checked~label.sk-toggleable__label-arrow:before {content: \"▾\";}#sk-container-id-16 div.sk-estimator input.sk-toggleable__control:checked~label.sk-toggleable__label {background-color: #d4ebff;}#sk-container-id-16 div.sk-label input.sk-toggleable__control:checked~label.sk-toggleable__label {background-color: #d4ebff;}#sk-container-id-16 input.sk-hidden--visually {border: 0;clip: rect(1px 1px 1px 1px);clip: rect(1px, 1px, 1px, 1px);height: 1px;margin: -1px;overflow: hidden;padding: 0;position: absolute;width: 1px;}#sk-container-id-16 div.sk-estimator {font-family: monospace;background-color: #f0f8ff;border: 1px dotted black;border-radius: 0.25em;box-sizing: border-box;margin-bottom: 0.5em;}#sk-container-id-16 div.sk-estimator:hover {background-color: #d4ebff;}#sk-container-id-16 div.sk-parallel-item::after {content: \"\";width: 100%;border-bottom: 1px solid gray;flex-grow: 1;}#sk-container-id-16 div.sk-label:hover label.sk-toggleable__label {background-color: #d4ebff;}#sk-container-id-16 div.sk-serial::before {content: \"\";position: absolute;border-left: 1px solid gray;box-sizing: border-box;top: 0;bottom: 0;left: 50%;z-index: 0;}#sk-container-id-16 div.sk-serial {display: flex;flex-direction: column;align-items: center;background-color: white;padding-right: 0.2em;padding-left: 0.2em;position: relative;}#sk-container-id-16 div.sk-item {position: relative;z-index: 1;}#sk-container-id-16 div.sk-parallel {display: flex;align-items: stretch;justify-content: center;background-color: white;position: relative;}#sk-container-id-16 div.sk-item::before, #sk-container-id-16 div.sk-parallel-item::before {content: \"\";position: absolute;border-left: 1px solid gray;box-sizing: border-box;top: 0;bottom: 0;left: 50%;z-index: -1;}#sk-container-id-16 div.sk-parallel-item {display: flex;flex-direction: column;z-index: 1;position: relative;background-color: white;}#sk-container-id-16 div.sk-parallel-item:first-child::after {align-self: flex-end;width: 50%;}#sk-container-id-16 div.sk-parallel-item:last-child::after {align-self: flex-start;width: 50%;}#sk-container-id-16 div.sk-parallel-item:only-child::after {width: 0;}#sk-container-id-16 div.sk-dashed-wrapped {border: 1px dashed gray;margin: 0 0.4em 0.5em 0.4em;box-sizing: border-box;padding-bottom: 0.4em;background-color: white;}#sk-container-id-16 div.sk-label label {font-family: monospace;font-weight: bold;display: inline-block;line-height: 1.2em;}#sk-container-id-16 div.sk-label-container {text-align: center;}#sk-container-id-16 div.sk-container {/* jupyter's `normalize.less` sets `[hidden] { display: none; }` but bootstrap.min.css set `[hidden] { display: none !important; }` so we also need the `!important` here to be able to override the default hidden behavior on the sphinx rendered scikit-learn.org. See: https://github.com/scikit-learn/scikit-learn/issues/21755 */display: inline-block !important;position: relative;}#sk-container-id-16 div.sk-text-repr-fallback {display: none;}</style><div id=\"sk-container-id-16\" class=\"sk-top-container\"><div class=\"sk-text-repr-fallback\"><pre>LinearRegression()</pre><b>In a Jupyter environment, please rerun this cell to show the HTML representation or trust the notebook. <br />On GitHub, the HTML representation is unable to render, please try loading this page with nbviewer.org.</b></div><div class=\"sk-container\" hidden><div class=\"sk-item\"><div class=\"sk-estimator sk-toggleable\"><input class=\"sk-toggleable__control sk-hidden--visually\" id=\"sk-estimator-id-16\" type=\"checkbox\" checked><label for=\"sk-estimator-id-16\" class=\"sk-toggleable__label sk-toggleable__label-arrow\">LinearRegression</label><div class=\"sk-toggleable__content\"><pre>LinearRegression()</pre></div></div></div></div></div>"
      ],
      "text/plain": [
       "LinearRegression()"
      ]
     },
     "execution_count": 175,
     "metadata": {},
     "output_type": "execute_result"
    }
   ],
   "source": [
    "clf_m = LinearRegression()\n",
    "clf_m.fit(X_train, y_train)"
   ]
  },
  {
   "cell_type": "code",
   "execution_count": 176,
   "metadata": {},
   "outputs": [
    {
     "name": "stdout",
     "output_type": "stream",
     "text": [
      "-139.72446776996568 [ 0.00000000e+00  5.81248262e-04  8.27328930e-01  6.29286732e-03\n",
      "  1.59278507e-03 -1.32631727e-04 -1.77520989e-04 -1.04464198e-04\n",
      "  7.31344060e-04  5.05239495e-04  9.15697687e-05 -3.66694014e-02\n",
      " -4.24209569e-04  2.06204117e-03  1.93524317e-05  1.66501846e-02\n",
      " -3.19426209e-02  2.84502716e+00]\n"
     ]
    }
   ],
   "source": [
    "print(clf_m.intercept_, clf_m.coef_)"
   ]
  },
  {
   "cell_type": "code",
   "execution_count": 177,
   "metadata": {},
   "outputs": [
    {
     "name": "stdout",
     "output_type": "stream",
     "text": [
      "RMSE: \n"
     ]
    },
    {
     "data": {
      "text/plain": [
       "0.5565807067526878"
      ]
     },
     "execution_count": 177,
     "metadata": {},
     "output_type": "execute_result"
    }
   ],
   "source": [
    "# Vorhersage machen und evaluieren\n",
    "predicted = clf_m.predict(X_dev)\n",
    "expected = y_dev\n",
    "\n",
    "print(\"RMSE: \")\n",
    "RMSE(expected, predicted)"
   ]
  },
  {
   "cell_type": "markdown",
   "metadata": {},
   "source": [
    "Ein RMSE von etwa 0,546 bedeutet, dass bei einer Modellvorhersage das Gewicht durchschnittlich um 0,546 Einheiten zu hoch oder zu tief sein wird.\n",
    "\n",
    "Betrachtet man die Spanne der Gewichtsverteilung, die von 40 bis 140 reicht, ist dieser Wert auffällig gut.\n",
    "\n",
    "In einem nächsten Schritt muss man nun überprüfen, woran dies liegt. \n",
    "Es wird vermutet, dass entweder die Test- und Trainingsdaten nicht sauber getrennt wurden oder, dass es sehr starke Abhängigkeiten in den verwendeten Features gibt."
   ]
  },
  {
   "cell_type": "code",
   "execution_count": 178,
   "metadata": {},
   "outputs": [
    {
     "name": "stdout",
     "output_type": "stream",
     "text": [
      "394618 131540\n"
     ]
    }
   ],
   "source": [
    "# Erneutes Aufteilen der Daten: \n",
    "\n",
    "X_train, X_test, y_train, y_test = train_test_split(data_m.drop(columns=['Gewicht']), data_m['Gewicht'], test_size=0.25)\n",
    "\n",
    "print(len(X_train), len(X_test))"
   ]
  },
  {
   "cell_type": "code",
   "execution_count": 179,
   "metadata": {},
   "outputs": [
    {
     "data": {
      "text/html": [
       "<style>#sk-container-id-17 {color: black;}#sk-container-id-17 pre{padding: 0;}#sk-container-id-17 div.sk-toggleable {background-color: white;}#sk-container-id-17 label.sk-toggleable__label {cursor: pointer;display: block;width: 100%;margin-bottom: 0;padding: 0.3em;box-sizing: border-box;text-align: center;}#sk-container-id-17 label.sk-toggleable__label-arrow:before {content: \"▸\";float: left;margin-right: 0.25em;color: #696969;}#sk-container-id-17 label.sk-toggleable__label-arrow:hover:before {color: black;}#sk-container-id-17 div.sk-estimator:hover label.sk-toggleable__label-arrow:before {color: black;}#sk-container-id-17 div.sk-toggleable__content {max-height: 0;max-width: 0;overflow: hidden;text-align: left;background-color: #f0f8ff;}#sk-container-id-17 div.sk-toggleable__content pre {margin: 0.2em;color: black;border-radius: 0.25em;background-color: #f0f8ff;}#sk-container-id-17 input.sk-toggleable__control:checked~div.sk-toggleable__content {max-height: 200px;max-width: 100%;overflow: auto;}#sk-container-id-17 input.sk-toggleable__control:checked~label.sk-toggleable__label-arrow:before {content: \"▾\";}#sk-container-id-17 div.sk-estimator input.sk-toggleable__control:checked~label.sk-toggleable__label {background-color: #d4ebff;}#sk-container-id-17 div.sk-label input.sk-toggleable__control:checked~label.sk-toggleable__label {background-color: #d4ebff;}#sk-container-id-17 input.sk-hidden--visually {border: 0;clip: rect(1px 1px 1px 1px);clip: rect(1px, 1px, 1px, 1px);height: 1px;margin: -1px;overflow: hidden;padding: 0;position: absolute;width: 1px;}#sk-container-id-17 div.sk-estimator {font-family: monospace;background-color: #f0f8ff;border: 1px dotted black;border-radius: 0.25em;box-sizing: border-box;margin-bottom: 0.5em;}#sk-container-id-17 div.sk-estimator:hover {background-color: #d4ebff;}#sk-container-id-17 div.sk-parallel-item::after {content: \"\";width: 100%;border-bottom: 1px solid gray;flex-grow: 1;}#sk-container-id-17 div.sk-label:hover label.sk-toggleable__label {background-color: #d4ebff;}#sk-container-id-17 div.sk-serial::before {content: \"\";position: absolute;border-left: 1px solid gray;box-sizing: border-box;top: 0;bottom: 0;left: 50%;z-index: 0;}#sk-container-id-17 div.sk-serial {display: flex;flex-direction: column;align-items: center;background-color: white;padding-right: 0.2em;padding-left: 0.2em;position: relative;}#sk-container-id-17 div.sk-item {position: relative;z-index: 1;}#sk-container-id-17 div.sk-parallel {display: flex;align-items: stretch;justify-content: center;background-color: white;position: relative;}#sk-container-id-17 div.sk-item::before, #sk-container-id-17 div.sk-parallel-item::before {content: \"\";position: absolute;border-left: 1px solid gray;box-sizing: border-box;top: 0;bottom: 0;left: 50%;z-index: -1;}#sk-container-id-17 div.sk-parallel-item {display: flex;flex-direction: column;z-index: 1;position: relative;background-color: white;}#sk-container-id-17 div.sk-parallel-item:first-child::after {align-self: flex-end;width: 50%;}#sk-container-id-17 div.sk-parallel-item:last-child::after {align-self: flex-start;width: 50%;}#sk-container-id-17 div.sk-parallel-item:only-child::after {width: 0;}#sk-container-id-17 div.sk-dashed-wrapped {border: 1px dashed gray;margin: 0 0.4em 0.5em 0.4em;box-sizing: border-box;padding-bottom: 0.4em;background-color: white;}#sk-container-id-17 div.sk-label label {font-family: monospace;font-weight: bold;display: inline-block;line-height: 1.2em;}#sk-container-id-17 div.sk-label-container {text-align: center;}#sk-container-id-17 div.sk-container {/* jupyter's `normalize.less` sets `[hidden] { display: none; }` but bootstrap.min.css set `[hidden] { display: none !important; }` so we also need the `!important` here to be able to override the default hidden behavior on the sphinx rendered scikit-learn.org. See: https://github.com/scikit-learn/scikit-learn/issues/21755 */display: inline-block !important;position: relative;}#sk-container-id-17 div.sk-text-repr-fallback {display: none;}</style><div id=\"sk-container-id-17\" class=\"sk-top-container\"><div class=\"sk-text-repr-fallback\"><pre>LinearRegression()</pre><b>In a Jupyter environment, please rerun this cell to show the HTML representation or trust the notebook. <br />On GitHub, the HTML representation is unable to render, please try loading this page with nbviewer.org.</b></div><div class=\"sk-container\" hidden><div class=\"sk-item\"><div class=\"sk-estimator sk-toggleable\"><input class=\"sk-toggleable__control sk-hidden--visually\" id=\"sk-estimator-id-17\" type=\"checkbox\" checked><label for=\"sk-estimator-id-17\" class=\"sk-toggleable__label sk-toggleable__label-arrow\">LinearRegression</label><div class=\"sk-toggleable__content\"><pre>LinearRegression()</pre></div></div></div></div></div>"
      ],
      "text/plain": [
       "LinearRegression()"
      ]
     },
     "execution_count": 179,
     "metadata": {},
     "output_type": "execute_result"
    }
   ],
   "source": [
    "# Erneutes Training des Modells:\n",
    "\n",
    "clf_m = LinearRegression()\n",
    "clf_m.fit(X_train, y_train)"
   ]
  },
  {
   "cell_type": "code",
   "execution_count": 180,
   "metadata": {},
   "outputs": [
    {
     "name": "stdout",
     "output_type": "stream",
     "text": [
      "RMSE: \n"
     ]
    },
    {
     "data": {
      "text/plain": [
       "0.5535167003297998"
      ]
     },
     "execution_count": 180,
     "metadata": {},
     "output_type": "execute_result"
    }
   ],
   "source": [
    "# Vorhersage machen und evaluieren\n",
    "predicted = clf_m.predict(X_test)\n",
    "expected = y_test\n",
    "\n",
    "print(\"RMSE: \")\n",
    "RMSE(expected, predicted)"
   ]
  },
  {
   "cell_type": "code",
   "execution_count": 181,
   "metadata": {},
   "outputs": [
    {
     "name": "stdout",
     "output_type": "stream",
     "text": [
      "-139.89643772234 [ 0.0000e+00  6.0000e-04  8.2800e-01  6.0000e-03  1.9000e-03 -2.0000e-04\n",
      " -2.0000e-04 -0.0000e+00  6.0000e-04  4.0000e-04  1.0000e-04 -3.4500e-02\n",
      " -4.0000e-04  2.1000e-03  0.0000e+00  1.7000e-02 -3.6200e-02  2.8457e+00]\n",
      "['Geschlecht' 'Alter' 'Größe' 'Hüftumfang' 'Systolischer Blutdruck'\n",
      " 'Diastolischer Blutdruck' 'Nüchterner Blutzucker' 'Totale Cholesterin'\n",
      " 'HDL_Cholesterin' 'LDL_Cholesterin' 'Triglycerid' 'Hämoglobin' 'SGOT_AST'\n",
      " 'SGOT_ALT' 'gamma_GTP' 'Raucher_Status' 'Trinker' 'Body-Mass-Index']\n"
     ]
    }
   ],
   "source": [
    "print(clf_m.intercept_, clf_m.coef_.round(4))\n",
    "\n",
    "print(clf_m.feature_names_in_)"
   ]
  },
  {
   "cell_type": "markdown",
   "metadata": {},
   "source": [
    "Der weitere Versuch hat gezeigt, dass der Urspung des sehr genauen RMSE-Wertes nicht an der Aufteilung der Test- & Trainingsdaten liegt.\n",
    "\n",
    "Bei der Untersuchung der Koeffizienten zeigt sich, dass der BMI mit in den Daten ist, der auch den höchsten Einfluss auf den Zielwert hat.\n",
    "\n",
    "Diesen werden wir folgend entfernen."
   ]
  },
  {
   "cell_type": "code",
   "execution_count": 182,
   "metadata": {},
   "outputs": [
    {
     "data": {
      "text/html": [
       "<div>\n",
       "<style scoped>\n",
       "    .dataframe tbody tr th:only-of-type {\n",
       "        vertical-align: middle;\n",
       "    }\n",
       "\n",
       "    .dataframe tbody tr th {\n",
       "        vertical-align: top;\n",
       "    }\n",
       "\n",
       "    .dataframe thead th {\n",
       "        text-align: right;\n",
       "    }\n",
       "</style>\n",
       "<table border=\"1\" class=\"dataframe\">\n",
       "  <thead>\n",
       "    <tr style=\"text-align: right;\">\n",
       "      <th></th>\n",
       "      <th>Geschlecht</th>\n",
       "      <th>Alter</th>\n",
       "      <th>Größe</th>\n",
       "      <th>Gewicht</th>\n",
       "      <th>Hüftumfang</th>\n",
       "      <th>Systolischer Blutdruck</th>\n",
       "      <th>Diastolischer Blutdruck</th>\n",
       "      <th>Nüchterner Blutzucker</th>\n",
       "      <th>Totale Cholesterin</th>\n",
       "      <th>HDL_Cholesterin</th>\n",
       "      <th>LDL_Cholesterin</th>\n",
       "      <th>Triglycerid</th>\n",
       "      <th>Hämoglobin</th>\n",
       "      <th>SGOT_AST</th>\n",
       "      <th>SGOT_ALT</th>\n",
       "      <th>gamma_GTP</th>\n",
       "      <th>Raucher_Status</th>\n",
       "      <th>Trinker</th>\n",
       "    </tr>\n",
       "  </thead>\n",
       "  <tbody>\n",
       "    <tr>\n",
       "      <th>0</th>\n",
       "      <td>1</td>\n",
       "      <td>35</td>\n",
       "      <td>170</td>\n",
       "      <td>75</td>\n",
       "      <td>90.0</td>\n",
       "      <td>120.0</td>\n",
       "      <td>80.0</td>\n",
       "      <td>99.0</td>\n",
       "      <td>193.0</td>\n",
       "      <td>48.0</td>\n",
       "      <td>126.0</td>\n",
       "      <td>92.0</td>\n",
       "      <td>17.1</td>\n",
       "      <td>21.0</td>\n",
       "      <td>35.0</td>\n",
       "      <td>40.0</td>\n",
       "      <td>1.0</td>\n",
       "      <td>1</td>\n",
       "    </tr>\n",
       "    <tr>\n",
       "      <th>1</th>\n",
       "      <td>1</td>\n",
       "      <td>30</td>\n",
       "      <td>180</td>\n",
       "      <td>80</td>\n",
       "      <td>89.0</td>\n",
       "      <td>130.0</td>\n",
       "      <td>82.0</td>\n",
       "      <td>106.0</td>\n",
       "      <td>228.0</td>\n",
       "      <td>55.0</td>\n",
       "      <td>148.0</td>\n",
       "      <td>121.0</td>\n",
       "      <td>15.8</td>\n",
       "      <td>20.0</td>\n",
       "      <td>36.0</td>\n",
       "      <td>27.0</td>\n",
       "      <td>3.0</td>\n",
       "      <td>0</td>\n",
       "    </tr>\n",
       "    <tr>\n",
       "      <th>2</th>\n",
       "      <td>1</td>\n",
       "      <td>40</td>\n",
       "      <td>165</td>\n",
       "      <td>75</td>\n",
       "      <td>91.0</td>\n",
       "      <td>120.0</td>\n",
       "      <td>70.0</td>\n",
       "      <td>98.0</td>\n",
       "      <td>136.0</td>\n",
       "      <td>41.0</td>\n",
       "      <td>74.0</td>\n",
       "      <td>104.0</td>\n",
       "      <td>15.8</td>\n",
       "      <td>47.0</td>\n",
       "      <td>32.0</td>\n",
       "      <td>68.0</td>\n",
       "      <td>1.0</td>\n",
       "      <td>0</td>\n",
       "    </tr>\n",
       "    <tr>\n",
       "      <th>3</th>\n",
       "      <td>1</td>\n",
       "      <td>50</td>\n",
       "      <td>175</td>\n",
       "      <td>80</td>\n",
       "      <td>91.0</td>\n",
       "      <td>145.0</td>\n",
       "      <td>87.0</td>\n",
       "      <td>95.0</td>\n",
       "      <td>201.0</td>\n",
       "      <td>76.0</td>\n",
       "      <td>104.0</td>\n",
       "      <td>106.0</td>\n",
       "      <td>17.6</td>\n",
       "      <td>29.0</td>\n",
       "      <td>34.0</td>\n",
       "      <td>18.0</td>\n",
       "      <td>1.0</td>\n",
       "      <td>0</td>\n",
       "    </tr>\n",
       "    <tr>\n",
       "      <th>4</th>\n",
       "      <td>1</td>\n",
       "      <td>50</td>\n",
       "      <td>165</td>\n",
       "      <td>60</td>\n",
       "      <td>80.0</td>\n",
       "      <td>138.0</td>\n",
       "      <td>82.0</td>\n",
       "      <td>101.0</td>\n",
       "      <td>199.0</td>\n",
       "      <td>61.0</td>\n",
       "      <td>117.0</td>\n",
       "      <td>104.0</td>\n",
       "      <td>13.8</td>\n",
       "      <td>19.0</td>\n",
       "      <td>12.0</td>\n",
       "      <td>25.0</td>\n",
       "      <td>1.0</td>\n",
       "      <td>0</td>\n",
       "    </tr>\n",
       "  </tbody>\n",
       "</table>\n",
       "</div>"
      ],
      "text/plain": [
       "   Geschlecht  Alter  Größe  Gewicht  Hüftumfang  Systolischer Blutdruck  \\\n",
       "0           1     35    170       75        90.0                   120.0   \n",
       "1           1     30    180       80        89.0                   130.0   \n",
       "2           1     40    165       75        91.0                   120.0   \n",
       "3           1     50    175       80        91.0                   145.0   \n",
       "4           1     50    165       60        80.0                   138.0   \n",
       "\n",
       "   Diastolischer Blutdruck  Nüchterner Blutzucker  Totale Cholesterin  \\\n",
       "0                     80.0                   99.0               193.0   \n",
       "1                     82.0                  106.0               228.0   \n",
       "2                     70.0                   98.0               136.0   \n",
       "3                     87.0                   95.0               201.0   \n",
       "4                     82.0                  101.0               199.0   \n",
       "\n",
       "   HDL_Cholesterin  LDL_Cholesterin  Triglycerid  Hämoglobin  SGOT_AST  \\\n",
       "0             48.0            126.0         92.0        17.1      21.0   \n",
       "1             55.0            148.0        121.0        15.8      20.0   \n",
       "2             41.0             74.0        104.0        15.8      47.0   \n",
       "3             76.0            104.0        106.0        17.6      29.0   \n",
       "4             61.0            117.0        104.0        13.8      19.0   \n",
       "\n",
       "   SGOT_ALT  gamma_GTP  Raucher_Status  Trinker  \n",
       "0      35.0       40.0             1.0        1  \n",
       "1      36.0       27.0             3.0        0  \n",
       "2      32.0       68.0             1.0        0  \n",
       "3      34.0       18.0             1.0        0  \n",
       "4      12.0       25.0             1.0        0  "
      ]
     },
     "execution_count": 182,
     "metadata": {},
     "output_type": "execute_result"
    }
   ],
   "source": [
    "data_m = data_m.drop(columns=['Body-Mass-Index'])\n",
    "\n",
    "data_m.head()"
   ]
  },
  {
   "cell_type": "code",
   "execution_count": 183,
   "metadata": {},
   "outputs": [
    {
     "name": "stdout",
     "output_type": "stream",
     "text": [
      "394618 131540\n"
     ]
    }
   ],
   "source": [
    "# Erneutes Aufteilen der Daten: \n",
    "\n",
    "X_train, X_test, y_train, y_test = train_test_split(data_m.drop(columns=['Gewicht']), data_m['Gewicht'], test_size=0.25)\n",
    "\n",
    "print(len(X_train), len(X_test))"
   ]
  },
  {
   "cell_type": "code",
   "execution_count": 184,
   "metadata": {},
   "outputs": [
    {
     "data": {
      "text/html": [
       "<style>#sk-container-id-18 {color: black;}#sk-container-id-18 pre{padding: 0;}#sk-container-id-18 div.sk-toggleable {background-color: white;}#sk-container-id-18 label.sk-toggleable__label {cursor: pointer;display: block;width: 100%;margin-bottom: 0;padding: 0.3em;box-sizing: border-box;text-align: center;}#sk-container-id-18 label.sk-toggleable__label-arrow:before {content: \"▸\";float: left;margin-right: 0.25em;color: #696969;}#sk-container-id-18 label.sk-toggleable__label-arrow:hover:before {color: black;}#sk-container-id-18 div.sk-estimator:hover label.sk-toggleable__label-arrow:before {color: black;}#sk-container-id-18 div.sk-toggleable__content {max-height: 0;max-width: 0;overflow: hidden;text-align: left;background-color: #f0f8ff;}#sk-container-id-18 div.sk-toggleable__content pre {margin: 0.2em;color: black;border-radius: 0.25em;background-color: #f0f8ff;}#sk-container-id-18 input.sk-toggleable__control:checked~div.sk-toggleable__content {max-height: 200px;max-width: 100%;overflow: auto;}#sk-container-id-18 input.sk-toggleable__control:checked~label.sk-toggleable__label-arrow:before {content: \"▾\";}#sk-container-id-18 div.sk-estimator input.sk-toggleable__control:checked~label.sk-toggleable__label {background-color: #d4ebff;}#sk-container-id-18 div.sk-label input.sk-toggleable__control:checked~label.sk-toggleable__label {background-color: #d4ebff;}#sk-container-id-18 input.sk-hidden--visually {border: 0;clip: rect(1px 1px 1px 1px);clip: rect(1px, 1px, 1px, 1px);height: 1px;margin: -1px;overflow: hidden;padding: 0;position: absolute;width: 1px;}#sk-container-id-18 div.sk-estimator {font-family: monospace;background-color: #f0f8ff;border: 1px dotted black;border-radius: 0.25em;box-sizing: border-box;margin-bottom: 0.5em;}#sk-container-id-18 div.sk-estimator:hover {background-color: #d4ebff;}#sk-container-id-18 div.sk-parallel-item::after {content: \"\";width: 100%;border-bottom: 1px solid gray;flex-grow: 1;}#sk-container-id-18 div.sk-label:hover label.sk-toggleable__label {background-color: #d4ebff;}#sk-container-id-18 div.sk-serial::before {content: \"\";position: absolute;border-left: 1px solid gray;box-sizing: border-box;top: 0;bottom: 0;left: 50%;z-index: 0;}#sk-container-id-18 div.sk-serial {display: flex;flex-direction: column;align-items: center;background-color: white;padding-right: 0.2em;padding-left: 0.2em;position: relative;}#sk-container-id-18 div.sk-item {position: relative;z-index: 1;}#sk-container-id-18 div.sk-parallel {display: flex;align-items: stretch;justify-content: center;background-color: white;position: relative;}#sk-container-id-18 div.sk-item::before, #sk-container-id-18 div.sk-parallel-item::before {content: \"\";position: absolute;border-left: 1px solid gray;box-sizing: border-box;top: 0;bottom: 0;left: 50%;z-index: -1;}#sk-container-id-18 div.sk-parallel-item {display: flex;flex-direction: column;z-index: 1;position: relative;background-color: white;}#sk-container-id-18 div.sk-parallel-item:first-child::after {align-self: flex-end;width: 50%;}#sk-container-id-18 div.sk-parallel-item:last-child::after {align-self: flex-start;width: 50%;}#sk-container-id-18 div.sk-parallel-item:only-child::after {width: 0;}#sk-container-id-18 div.sk-dashed-wrapped {border: 1px dashed gray;margin: 0 0.4em 0.5em 0.4em;box-sizing: border-box;padding-bottom: 0.4em;background-color: white;}#sk-container-id-18 div.sk-label label {font-family: monospace;font-weight: bold;display: inline-block;line-height: 1.2em;}#sk-container-id-18 div.sk-label-container {text-align: center;}#sk-container-id-18 div.sk-container {/* jupyter's `normalize.less` sets `[hidden] { display: none; }` but bootstrap.min.css set `[hidden] { display: none !important; }` so we also need the `!important` here to be able to override the default hidden behavior on the sphinx rendered scikit-learn.org. See: https://github.com/scikit-learn/scikit-learn/issues/21755 */display: inline-block !important;position: relative;}#sk-container-id-18 div.sk-text-repr-fallback {display: none;}</style><div id=\"sk-container-id-18\" class=\"sk-top-container\"><div class=\"sk-text-repr-fallback\"><pre>LinearRegression()</pre><b>In a Jupyter environment, please rerun this cell to show the HTML representation or trust the notebook. <br />On GitHub, the HTML representation is unable to render, please try loading this page with nbviewer.org.</b></div><div class=\"sk-container\" hidden><div class=\"sk-item\"><div class=\"sk-estimator sk-toggleable\"><input class=\"sk-toggleable__control sk-hidden--visually\" id=\"sk-estimator-id-18\" type=\"checkbox\" checked><label for=\"sk-estimator-id-18\" class=\"sk-toggleable__label sk-toggleable__label-arrow\">LinearRegression</label><div class=\"sk-toggleable__content\"><pre>LinearRegression()</pre></div></div></div></div></div>"
      ],
      "text/plain": [
       "LinearRegression()"
      ]
     },
     "execution_count": 184,
     "metadata": {},
     "output_type": "execute_result"
    }
   ],
   "source": [
    "# Erneutes Training des Modells:\n",
    "\n",
    "clf_m = LinearRegression()\n",
    "clf_m.fit(X_train, y_train)"
   ]
  },
  {
   "cell_type": "code",
   "execution_count": 185,
   "metadata": {},
   "outputs": [
    {
     "name": "stdout",
     "output_type": "stream",
     "text": [
      "RMSE: \n"
     ]
    },
    {
     "data": {
      "text/plain": [
       "25.824467052366966"
      ]
     },
     "execution_count": 185,
     "metadata": {},
     "output_type": "execute_result"
    }
   ],
   "source": [
    "# Vorhersage machen und evaluieren\n",
    "predicted = clf_m.predict(X_test)\n",
    "expected = y_test\n",
    "\n",
    "print(\"RMSE: \")\n",
    "RMSE(expected, predicted)"
   ]
  },
  {
   "cell_type": "markdown",
   "metadata": {},
   "source": [
    "Nach einem erneuten Durchlauf und Berücksichtigung der oben getroffenen Annahmen wurde in diesem Versuch ein realistischerer Wert erzielt. Es hat sich gezeigt, dass der BMI für die Analyse nicht sinnvoll ist, da er vom Modell wieder \"zurückgerechnet\" wird, sodass das Gewicht direkt aus ihm berechnet wird.\n",
    "\n",
    "Bei einer Spanne der Daten von 40 bis 140 kg ist eine durchschnittlich zu erwartende Abweichung von rund 25 kg sehr hoch."
   ]
  },
  {
   "cell_type": "markdown",
   "metadata": {},
   "source": [
    "Frauen:"
   ]
  },
  {
   "cell_type": "code",
   "execution_count": 186,
   "metadata": {},
   "outputs": [
    {
     "data": {
      "text/plain": [
       "count    464811.000000\n",
       "mean         55.537573\n",
       "std           8.873403\n",
       "min          25.000000\n",
       "25%          50.000000\n",
       "50%          55.000000\n",
       "75%          60.000000\n",
       "max         120.000000\n",
       "Name: Gewicht, dtype: float64"
      ]
     },
     "execution_count": 186,
     "metadata": {},
     "output_type": "execute_result"
    }
   ],
   "source": [
    "data_f['Gewicht'].describe()"
   ]
  },
  {
   "cell_type": "code",
   "execution_count": 187,
   "metadata": {},
   "outputs": [
    {
     "data": {
      "text/html": [
       "<div>\n",
       "<style scoped>\n",
       "    .dataframe tbody tr th:only-of-type {\n",
       "        vertical-align: middle;\n",
       "    }\n",
       "\n",
       "    .dataframe tbody tr th {\n",
       "        vertical-align: top;\n",
       "    }\n",
       "\n",
       "    .dataframe thead th {\n",
       "        text-align: right;\n",
       "    }\n",
       "</style>\n",
       "<table border=\"1\" class=\"dataframe\">\n",
       "  <thead>\n",
       "    <tr style=\"text-align: right;\">\n",
       "      <th></th>\n",
       "      <th>Geschlecht</th>\n",
       "      <th>Alter</th>\n",
       "      <th>Größe</th>\n",
       "      <th>Gewicht</th>\n",
       "      <th>Hüftumfang</th>\n",
       "      <th>Systolischer Blutdruck</th>\n",
       "      <th>Diastolischer Blutdruck</th>\n",
       "      <th>Nüchterner Blutzucker</th>\n",
       "      <th>Totale Cholesterin</th>\n",
       "      <th>HDL_Cholesterin</th>\n",
       "      <th>LDL_Cholesterin</th>\n",
       "      <th>Triglycerid</th>\n",
       "      <th>Hämoglobin</th>\n",
       "      <th>SGOT_AST</th>\n",
       "      <th>SGOT_ALT</th>\n",
       "      <th>gamma_GTP</th>\n",
       "      <th>Raucher_Status</th>\n",
       "      <th>Trinker</th>\n",
       "    </tr>\n",
       "  </thead>\n",
       "  <tbody>\n",
       "    <tr>\n",
       "      <th>6</th>\n",
       "      <td>0</td>\n",
       "      <td>45</td>\n",
       "      <td>150</td>\n",
       "      <td>55</td>\n",
       "      <td>69.0</td>\n",
       "      <td>101.0</td>\n",
       "      <td>58.0</td>\n",
       "      <td>89.0</td>\n",
       "      <td>196.0</td>\n",
       "      <td>66.0</td>\n",
       "      <td>115.0</td>\n",
       "      <td>75.0</td>\n",
       "      <td>12.3</td>\n",
       "      <td>19.0</td>\n",
       "      <td>12.0</td>\n",
       "      <td>12.0</td>\n",
       "      <td>1.0</td>\n",
       "      <td>0</td>\n",
       "    </tr>\n",
       "    <tr>\n",
       "      <th>12</th>\n",
       "      <td>0</td>\n",
       "      <td>55</td>\n",
       "      <td>150</td>\n",
       "      <td>55</td>\n",
       "      <td>72.3</td>\n",
       "      <td>130.0</td>\n",
       "      <td>80.0</td>\n",
       "      <td>106.0</td>\n",
       "      <td>183.0</td>\n",
       "      <td>51.0</td>\n",
       "      <td>89.0</td>\n",
       "      <td>214.0</td>\n",
       "      <td>13.1</td>\n",
       "      <td>20.0</td>\n",
       "      <td>20.0</td>\n",
       "      <td>31.0</td>\n",
       "      <td>1.0</td>\n",
       "      <td>0</td>\n",
       "    </tr>\n",
       "    <tr>\n",
       "      <th>14</th>\n",
       "      <td>0</td>\n",
       "      <td>30</td>\n",
       "      <td>160</td>\n",
       "      <td>50</td>\n",
       "      <td>76.0</td>\n",
       "      <td>129.0</td>\n",
       "      <td>77.0</td>\n",
       "      <td>79.0</td>\n",
       "      <td>205.0</td>\n",
       "      <td>53.0</td>\n",
       "      <td>108.0</td>\n",
       "      <td>219.0</td>\n",
       "      <td>14.5</td>\n",
       "      <td>21.0</td>\n",
       "      <td>24.0</td>\n",
       "      <td>58.0</td>\n",
       "      <td>1.0</td>\n",
       "      <td>0</td>\n",
       "    </tr>\n",
       "    <tr>\n",
       "      <th>16</th>\n",
       "      <td>0</td>\n",
       "      <td>25</td>\n",
       "      <td>160</td>\n",
       "      <td>65</td>\n",
       "      <td>73.0</td>\n",
       "      <td>126.0</td>\n",
       "      <td>78.0</td>\n",
       "      <td>96.0</td>\n",
       "      <td>148.0</td>\n",
       "      <td>54.0</td>\n",
       "      <td>82.0</td>\n",
       "      <td>60.0</td>\n",
       "      <td>12.3</td>\n",
       "      <td>12.0</td>\n",
       "      <td>7.0</td>\n",
       "      <td>9.0</td>\n",
       "      <td>1.0</td>\n",
       "      <td>1</td>\n",
       "    </tr>\n",
       "    <tr>\n",
       "      <th>20</th>\n",
       "      <td>0</td>\n",
       "      <td>35</td>\n",
       "      <td>170</td>\n",
       "      <td>50</td>\n",
       "      <td>67.0</td>\n",
       "      <td>111.0</td>\n",
       "      <td>65.0</td>\n",
       "      <td>88.0</td>\n",
       "      <td>174.0</td>\n",
       "      <td>66.0</td>\n",
       "      <td>98.0</td>\n",
       "      <td>46.0</td>\n",
       "      <td>12.1</td>\n",
       "      <td>19.0</td>\n",
       "      <td>13.0</td>\n",
       "      <td>18.0</td>\n",
       "      <td>1.0</td>\n",
       "      <td>1</td>\n",
       "    </tr>\n",
       "  </tbody>\n",
       "</table>\n",
       "</div>"
      ],
      "text/plain": [
       "    Geschlecht  Alter  Größe  Gewicht  Hüftumfang  Systolischer Blutdruck  \\\n",
       "6            0     45    150       55        69.0                   101.0   \n",
       "12           0     55    150       55        72.3                   130.0   \n",
       "14           0     30    160       50        76.0                   129.0   \n",
       "16           0     25    160       65        73.0                   126.0   \n",
       "20           0     35    170       50        67.0                   111.0   \n",
       "\n",
       "    Diastolischer Blutdruck  Nüchterner Blutzucker  Totale Cholesterin  \\\n",
       "6                      58.0                   89.0               196.0   \n",
       "12                     80.0                  106.0               183.0   \n",
       "14                     77.0                   79.0               205.0   \n",
       "16                     78.0                   96.0               148.0   \n",
       "20                     65.0                   88.0               174.0   \n",
       "\n",
       "    HDL_Cholesterin  LDL_Cholesterin  Triglycerid  Hämoglobin  SGOT_AST  \\\n",
       "6              66.0            115.0         75.0        12.3      19.0   \n",
       "12             51.0             89.0        214.0        13.1      20.0   \n",
       "14             53.0            108.0        219.0        14.5      21.0   \n",
       "16             54.0             82.0         60.0        12.3      12.0   \n",
       "20             66.0             98.0         46.0        12.1      19.0   \n",
       "\n",
       "    SGOT_ALT  gamma_GTP  Raucher_Status  Trinker  \n",
       "6       12.0       12.0             1.0        0  \n",
       "12      20.0       31.0             1.0        0  \n",
       "14      24.0       58.0             1.0        0  \n",
       "16       7.0        9.0             1.0        1  \n",
       "20      13.0       18.0             1.0        1  "
      ]
     },
     "execution_count": 187,
     "metadata": {},
     "output_type": "execute_result"
    }
   ],
   "source": [
    "data_f = data_f.drop(columns=['Body-Mass-Index'])\n",
    "\n",
    "data_f.head()"
   ]
  },
  {
   "cell_type": "code",
   "execution_count": 188,
   "metadata": {},
   "outputs": [
    {
     "name": "stdout",
     "output_type": "stream",
     "text": [
      "278886 92962 92963\n"
     ]
    }
   ],
   "source": [
    "# Daten aufteilen: Testdaten\n",
    "X_train, X_test, y_train, y_test = train_test_split(data_f.drop(columns=['Gewicht']), data_f['Gewicht'], test_size=0.20)\n",
    "\n",
    "# Nicht-Testdaten weiter aufteilen: Training und Entwicklung\n",
    "X_train, X_dev, y_train, y_dev = train_test_split(X_train, y_train, test_size=0.25)\n",
    "\n",
    "print(len(X_train), len(X_dev), len(X_test))"
   ]
  },
  {
   "cell_type": "code",
   "execution_count": 189,
   "metadata": {},
   "outputs": [
    {
     "data": {
      "text/html": [
       "<style>#sk-container-id-19 {color: black;}#sk-container-id-19 pre{padding: 0;}#sk-container-id-19 div.sk-toggleable {background-color: white;}#sk-container-id-19 label.sk-toggleable__label {cursor: pointer;display: block;width: 100%;margin-bottom: 0;padding: 0.3em;box-sizing: border-box;text-align: center;}#sk-container-id-19 label.sk-toggleable__label-arrow:before {content: \"▸\";float: left;margin-right: 0.25em;color: #696969;}#sk-container-id-19 label.sk-toggleable__label-arrow:hover:before {color: black;}#sk-container-id-19 div.sk-estimator:hover label.sk-toggleable__label-arrow:before {color: black;}#sk-container-id-19 div.sk-toggleable__content {max-height: 0;max-width: 0;overflow: hidden;text-align: left;background-color: #f0f8ff;}#sk-container-id-19 div.sk-toggleable__content pre {margin: 0.2em;color: black;border-radius: 0.25em;background-color: #f0f8ff;}#sk-container-id-19 input.sk-toggleable__control:checked~div.sk-toggleable__content {max-height: 200px;max-width: 100%;overflow: auto;}#sk-container-id-19 input.sk-toggleable__control:checked~label.sk-toggleable__label-arrow:before {content: \"▾\";}#sk-container-id-19 div.sk-estimator input.sk-toggleable__control:checked~label.sk-toggleable__label {background-color: #d4ebff;}#sk-container-id-19 div.sk-label input.sk-toggleable__control:checked~label.sk-toggleable__label {background-color: #d4ebff;}#sk-container-id-19 input.sk-hidden--visually {border: 0;clip: rect(1px 1px 1px 1px);clip: rect(1px, 1px, 1px, 1px);height: 1px;margin: -1px;overflow: hidden;padding: 0;position: absolute;width: 1px;}#sk-container-id-19 div.sk-estimator {font-family: monospace;background-color: #f0f8ff;border: 1px dotted black;border-radius: 0.25em;box-sizing: border-box;margin-bottom: 0.5em;}#sk-container-id-19 div.sk-estimator:hover {background-color: #d4ebff;}#sk-container-id-19 div.sk-parallel-item::after {content: \"\";width: 100%;border-bottom: 1px solid gray;flex-grow: 1;}#sk-container-id-19 div.sk-label:hover label.sk-toggleable__label {background-color: #d4ebff;}#sk-container-id-19 div.sk-serial::before {content: \"\";position: absolute;border-left: 1px solid gray;box-sizing: border-box;top: 0;bottom: 0;left: 50%;z-index: 0;}#sk-container-id-19 div.sk-serial {display: flex;flex-direction: column;align-items: center;background-color: white;padding-right: 0.2em;padding-left: 0.2em;position: relative;}#sk-container-id-19 div.sk-item {position: relative;z-index: 1;}#sk-container-id-19 div.sk-parallel {display: flex;align-items: stretch;justify-content: center;background-color: white;position: relative;}#sk-container-id-19 div.sk-item::before, #sk-container-id-19 div.sk-parallel-item::before {content: \"\";position: absolute;border-left: 1px solid gray;box-sizing: border-box;top: 0;bottom: 0;left: 50%;z-index: -1;}#sk-container-id-19 div.sk-parallel-item {display: flex;flex-direction: column;z-index: 1;position: relative;background-color: white;}#sk-container-id-19 div.sk-parallel-item:first-child::after {align-self: flex-end;width: 50%;}#sk-container-id-19 div.sk-parallel-item:last-child::after {align-self: flex-start;width: 50%;}#sk-container-id-19 div.sk-parallel-item:only-child::after {width: 0;}#sk-container-id-19 div.sk-dashed-wrapped {border: 1px dashed gray;margin: 0 0.4em 0.5em 0.4em;box-sizing: border-box;padding-bottom: 0.4em;background-color: white;}#sk-container-id-19 div.sk-label label {font-family: monospace;font-weight: bold;display: inline-block;line-height: 1.2em;}#sk-container-id-19 div.sk-label-container {text-align: center;}#sk-container-id-19 div.sk-container {/* jupyter's `normalize.less` sets `[hidden] { display: none; }` but bootstrap.min.css set `[hidden] { display: none !important; }` so we also need the `!important` here to be able to override the default hidden behavior on the sphinx rendered scikit-learn.org. See: https://github.com/scikit-learn/scikit-learn/issues/21755 */display: inline-block !important;position: relative;}#sk-container-id-19 div.sk-text-repr-fallback {display: none;}</style><div id=\"sk-container-id-19\" class=\"sk-top-container\"><div class=\"sk-text-repr-fallback\"><pre>LinearRegression()</pre><b>In a Jupyter environment, please rerun this cell to show the HTML representation or trust the notebook. <br />On GitHub, the HTML representation is unable to render, please try loading this page with nbviewer.org.</b></div><div class=\"sk-container\" hidden><div class=\"sk-item\"><div class=\"sk-estimator sk-toggleable\"><input class=\"sk-toggleable__control sk-hidden--visually\" id=\"sk-estimator-id-19\" type=\"checkbox\" checked><label for=\"sk-estimator-id-19\" class=\"sk-toggleable__label sk-toggleable__label-arrow\">LinearRegression</label><div class=\"sk-toggleable__content\"><pre>LinearRegression()</pre></div></div></div></div></div>"
      ],
      "text/plain": [
       "LinearRegression()"
      ]
     },
     "execution_count": 189,
     "metadata": {},
     "output_type": "execute_result"
    }
   ],
   "source": [
    "clf = LinearRegression()\n",
    "clf.fit(X_train, y_train)"
   ]
  },
  {
   "cell_type": "code",
   "execution_count": 190,
   "metadata": {},
   "outputs": [
    {
     "name": "stdout",
     "output_type": "stream",
     "text": [
      "-76.92060306856688 [ 0.00000000e+00 -1.10411503e-01  4.82833724e-01  7.44767996e-01\n",
      "  2.48667380e-02  3.32065918e-02  2.59707431e-03  2.81830535e-03\n",
      " -2.55407356e-02  4.54463247e-03  5.79742864e-04  5.34318522e-02\n",
      " -3.18449794e-02  4.65876789e-02 -3.02466029e-03 -2.32428815e-01\n",
      " -7.38759358e-02]\n"
     ]
    }
   ],
   "source": [
    "print(clf.intercept_, clf.coef_)"
   ]
  },
  {
   "cell_type": "code",
   "execution_count": 191,
   "metadata": {},
   "outputs": [
    {
     "name": "stdout",
     "output_type": "stream",
     "text": [
      "RMSE: \n"
     ]
    },
    {
     "data": {
      "text/plain": [
       "24.19903147476868"
      ]
     },
     "execution_count": 191,
     "metadata": {},
     "output_type": "execute_result"
    }
   ],
   "source": [
    "# Vorhersage machen und evaluieren\n",
    "predicted = clf.predict(X_dev)\n",
    "expected = y_dev\n",
    "\n",
    "print(\"RMSE: \")\n",
    "RMSE(expected, predicted)"
   ]
  },
  {
   "cell_type": "markdown",
   "metadata": {},
   "source": [
    "Auch bei den Frauen ist der RMSE mit einem Wert von etwa 24 sehr hoch.\n",
    "\n",
    "Der Wert ist minimal besser als bei den Männern, dies liegt sehr wahrscheinlich daran, dass die Datenspanne etwas kleiner ist (25 kg bis 120 kg) im Vergleich zu den Männern (40 bis 140 kg)."
   ]
  }
 ],
 "metadata": {
  "kernelspec": {
   "display_name": "Python 3",
   "language": "python",
   "name": "python3"
  },
  "language_info": {
   "codemirror_mode": {
    "name": "ipython",
    "version": 3
   },
   "file_extension": ".py",
   "mimetype": "text/x-python",
   "name": "python",
   "nbconvert_exporter": "python",
   "pygments_lexer": "ipython3",
   "version": "3.12.1"
  }
 },
 "nbformat": 4,
 "nbformat_minor": 2
}
